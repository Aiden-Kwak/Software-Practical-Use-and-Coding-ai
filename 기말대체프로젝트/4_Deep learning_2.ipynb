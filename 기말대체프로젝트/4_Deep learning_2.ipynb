{
 "cells": [
  {
   "cell_type": "markdown",
   "metadata": {},
   "source": [
    "데이터 전처리"
   ]
  },
  {
   "cell_type": "code",
   "execution_count": 1,
   "metadata": {},
   "outputs": [],
   "source": [
    "import pandas as pd\n",
    "import matplotlib.pyplot as plt\n",
    "import konlpy\n",
    "from konlpy.tag import Okt\n",
    "import numpy as np"
   ]
  },
  {
   "cell_type": "code",
   "execution_count": 2,
   "metadata": {},
   "outputs": [],
   "source": [
    "train_data=pd.read_csv('D:\\\\ai\\\\기말대체\\\\Data set_1.csv')\n",
    "test_data=pd.read_csv('D:\\\\ai\\\\기말대체\\\\Data set_2.csv')"
   ]
  },
  {
   "cell_type": "code",
   "execution_count": 3,
   "metadata": {},
   "outputs": [],
   "source": [
    "stopwords=['로','에','등','으로','및','과','되며','한']"
   ]
  },
  {
   "cell_type": "code",
   "execution_count": 4,
   "metadata": {},
   "outputs": [],
   "source": [
    "okt=Okt()\n",
    "X_train=[]\n",
    "for sentence in train_data['title']:\n",
    "    temp_X=[]\n",
    "    temp_X=okt.morphs(sentence,stem=True)\n",
    "    temp_X=[word for word in temp_X if not word in stopwords]\n",
    "    X_train.append(temp_X)\n",
    "X_test=[]\n",
    "for sentence in test_data['title']:\n",
    "    temp_X=[]\n",
    "    temp_X=okt.morphs(sentence,stem=True)\n",
    "    temp_X=[word for word in temp_X if not word in stopwords]\n",
    "    X_test.append(temp_X)"
   ]
  },
  {
   "cell_type": "code",
   "execution_count": 5,
   "metadata": {},
   "outputs": [
    {
     "name": "stdout",
     "output_type": "stream",
     "text": [
      "[['CMG', '제약', '외국인', '12만', '9000', '주', '순', '매수', '주가', '058'], ['CMG', '제약', '외국인', '8만', '6000', '주', '순', '매수', '주가', '246'], ['CMG', '제약', '검색', '상위', '랭킹', '주가', '159']]\n"
     ]
    }
   ],
   "source": [
    "print(X_train[:3])"
   ]
  },
  {
   "cell_type": "code",
   "execution_count": 6,
   "metadata": {},
   "outputs": [
    {
     "name": "stdout",
     "output_type": "stream",
     "text": [
      "[['fnRASSI', '씨', '케이', '에이치', '900120', '1185', '상승'], ['fnRASSI', '씨', '케이', '에이치', '900120', '899', '상승'], ['코스닥', '人', '씨', '케이', '에이치', '화장품', '·', '건기', '식', '사업', '두', '마리', '토끼', '잡다']]\n"
     ]
    }
   ],
   "source": [
    "print(X_test[:3])"
   ]
  },
  {
   "cell_type": "markdown",
   "metadata": {},
   "source": [
    "토큰화한 단어를 정수인코딩"
   ]
  },
  {
   "cell_type": "code",
   "execution_count": 7,
   "metadata": {},
   "outputs": [
    {
     "name": "stderr",
     "output_type": "stream",
     "text": [
      "Using TensorFlow backend.\n"
     ]
    }
   ],
   "source": [
    "from keras.preprocessing.text import Tokenizer\n",
    "max_words=35000\n",
    "tokenizer=Tokenizer(num_words=max_words)\n",
    "tokenizer.fit_on_texts(X_train)\n",
    "X_train=tokenizer.texts_to_sequences(X_train)\n",
    "X_test=tokenizer.texts_to_sequences(X_test)"
   ]
  },
  {
   "cell_type": "code",
   "execution_count": 8,
   "metadata": {},
   "outputs": [
    {
     "name": "stdout",
     "output_type": "stream",
     "text": [
      "[[105, 70, 22, 858, 583, 8, 18, 20, 4, 859], [105, 70, 22, 860, 584, 8, 18, 20, 4, 585], [105, 70, 44, 50, 51, 4, 445]]\n"
     ]
    }
   ],
   "source": [
    "print(X_train[:3])"
   ]
  },
  {
   "cell_type": "code",
   "execution_count": 9,
   "metadata": {},
   "outputs": [
    {
     "name": "stdout",
     "output_type": "stream",
     "text": [
      "[[12, 66, 180, 202, 1897, 1], [12, 66, 180, 202, 1897, 1], [35, 66, 180, 202, 763, 5, 662, 65, 1292]]\n"
     ]
    }
   ],
   "source": [
    "print(X_test[:3])"
   ]
  },
  {
   "cell_type": "markdown",
   "metadata": {},
   "source": [
    "label data -1,0,1에 대해서 one hot encoding"
   ]
  },
  {
   "cell_type": "code",
   "execution_count": 10,
   "metadata": {},
   "outputs": [],
   "source": [
    "y_train=[]\n",
    "y_test=[]\n",
    "\n",
    "for i in range(len(train_data['label'])):\n",
    "    if train_data['label'].iloc[i]==1:\n",
    "        y_train.append([0,0,1])\n",
    "    elif train_data['label'].iloc[i]==0:\n",
    "        y_train.append([0,1,0])\n",
    "    elif train_data['label'].iloc[i]==-1:\n",
    "        y_train.append([1,0,0])\n",
    "\n",
    "for i in range(len(test_data['label'])):\n",
    "    if test_data['label'].iloc[i]==1:\n",
    "        y_test.append([0,0,1])\n",
    "    elif test_data['label'].iloc[i]==0:\n",
    "        y_test.append([0,1,0])\n",
    "    elif test_data['label'].iloc[i]==-1:\n",
    "        y_test.append([1,0,0])\n",
    "        \n",
    "y_train=np.array(y_train)\n",
    "y_test=np.array(y_test)"
   ]
  },
  {
   "cell_type": "code",
   "execution_count": 11,
   "metadata": {},
   "outputs": [
    {
     "data": {
      "text/plain": [
       "array([[0, 0, 1],\n",
       "       [0, 0, 1],\n",
       "       [0, 1, 0],\n",
       "       ...,\n",
       "       [0, 1, 0],\n",
       "       [0, 1, 0],\n",
       "       [0, 1, 0]])"
      ]
     },
     "execution_count": 11,
     "metadata": {},
     "output_type": "execute_result"
    }
   ],
   "source": [
    "y_train"
   ]
  },
  {
   "cell_type": "code",
   "execution_count": 12,
   "metadata": {},
   "outputs": [
    {
     "data": {
      "text/plain": [
       "array([[0, 0, 1],\n",
       "       [0, 0, 1],\n",
       "       [0, 1, 0],\n",
       "       ...,\n",
       "       [0, 0, 1],\n",
       "       [0, 0, 1],\n",
       "       [0, 1, 0]])"
      ]
     },
     "execution_count": 12,
     "metadata": {},
     "output_type": "execute_result"
    }
   ],
   "source": [
    "y_test"
   ]
  },
  {
   "cell_type": "markdown",
   "metadata": {},
   "source": [
    "딥러닝 earlystopping callback적용한 모델2"
   ]
  },
  {
   "cell_type": "code",
   "execution_count": 20,
   "metadata": {},
   "outputs": [],
   "source": [
    "from keras.layers import Dense, LSTM, Embedding\n",
    "from keras.models import Sequential\n",
    "from keras.preprocessing.sequence import pad_sequences\n",
    "import tensorflow as tf\n",
    "from keras.callbacks import ModelCheckpoint,EarlyStopping\n",
    "\n",
    "np.random.seed(3)\n",
    "tf.random.set_seed(3)\n",
    "\n",
    "max_len=20\n",
    "X_train=pad_sequences(X_train, maxlen=max_len)\n",
    "X_test=pad_sequences(X_test,maxlen=max_len)"
   ]
  },
  {
   "cell_type": "code",
   "execution_count": 21,
   "metadata": {},
   "outputs": [],
   "source": [
    "model2 = Sequential()\n",
    "model2.add(Embedding(max_words,100))\n",
    "model2.add(LSTM(128)) #layer에 포함되는 unit개수가 128개일때 대체로 괜찮은가보다\n",
    "model2.add(Dense(3, activation='softmax'))  # 활성화 함수 softmax 사용\n",
    "\n",
    "model2.compile(loss='categorical_crossentropy', optimizer='adam', metrics=['accuracy'])"
   ]
  },
  {
   "cell_type": "code",
   "execution_count": 22,
   "metadata": {},
   "outputs": [],
   "source": [
    "# 모델 저장 폴더 만들기\n",
    "import os\n",
    "MODEL_DIR = './model_save/'\n",
    "if not os.path.exists(MODEL_DIR):\n",
    "   os.mkdir(MODEL_DIR)"
   ]
  },
  {
   "cell_type": "code",
   "execution_count": 23,
   "metadata": {},
   "outputs": [],
   "source": [
    "#파일명에 epoch와 val_loss를 기록하도록 설정 \n",
    "modelpath=\"./model_save/{epoch:02d}-{val_loss:.4f}.hdf5\" \n",
    "\n",
    "# 모델 업데이트 및 저장\n",
    "checkpointer = ModelCheckpoint(filepath=modelpath, monitor='val_loss', verbose=1, save_best_only=True)"
   ]
  },
  {
   "cell_type": "code",
   "execution_count": 24,
   "metadata": {},
   "outputs": [],
   "source": [
    "# 학습 자동 중단 설정\n",
    "early_stopping_callback = EarlyStopping(monitor='val_loss', patience=100)"
   ]
  },
  {
   "cell_type": "code",
   "execution_count": 25,
   "metadata": {},
   "outputs": [
    {
     "name": "stderr",
     "output_type": "stream",
     "text": [
      "C:\\Users\\Administrator\\.conda\\envs\\ai\\lib\\site-packages\\tensorflow_core\\python\\framework\\indexed_slices.py:424: UserWarning: Converting sparse IndexedSlices to a dense Tensor of unknown shape. This may consume a large amount of memory.\n",
      "  \"Converting sparse IndexedSlices to a dense Tensor of unknown shape. \"\n"
     ]
    },
    {
     "name": "stdout",
     "output_type": "stream",
     "text": [
      "Train on 946 samples, validate on 949 samples\n",
      "Epoch 1/3000\n",
      " - 2s - loss: 0.8810 - accuracy: 0.6353 - val_loss: 0.5927 - val_accuracy: 0.7345\n",
      "\n",
      "Epoch 00001: val_loss improved from inf to 0.59275, saving model to ./model_save/01-0.5927.hdf5\n",
      "Epoch 2/3000\n",
      " - 2s - loss: 0.4658 - accuracy: 0.8214 - val_loss: 0.3825 - val_accuracy: 0.8377\n",
      "\n",
      "Epoch 00002: val_loss improved from 0.59275 to 0.38248, saving model to ./model_save/02-0.3825.hdf5\n",
      "Epoch 3/3000\n",
      " - 2s - loss: 0.2269 - accuracy: 0.9207 - val_loss: 0.3024 - val_accuracy: 0.8830\n",
      "\n",
      "Epoch 00003: val_loss improved from 0.38248 to 0.30239, saving model to ./model_save/03-0.3024.hdf5\n",
      "Epoch 4/3000\n",
      " - 2s - loss: 0.0975 - accuracy: 0.9641 - val_loss: 0.3436 - val_accuracy: 0.8904\n",
      "\n",
      "Epoch 00004: val_loss did not improve from 0.30239\n",
      "Epoch 5/3000\n",
      " - 2s - loss: 0.0398 - accuracy: 0.9958 - val_loss: 0.7290 - val_accuracy: 0.8493\n",
      "\n",
      "Epoch 00005: val_loss did not improve from 0.30239\n",
      "Epoch 6/3000\n",
      " - 2s - loss: 0.0519 - accuracy: 0.9926 - val_loss: 0.3139 - val_accuracy: 0.9009\n",
      "\n",
      "Epoch 00006: val_loss did not improve from 0.30239\n",
      "Epoch 7/3000\n",
      " - 2s - loss: 0.0175 - accuracy: 0.9968 - val_loss: 0.2856 - val_accuracy: 0.9052\n",
      "\n",
      "Epoch 00007: val_loss improved from 0.30239 to 0.28560, saving model to ./model_save/07-0.2856.hdf5\n",
      "Epoch 8/3000\n",
      " - 2s - loss: 0.0042 - accuracy: 0.9989 - val_loss: 0.4064 - val_accuracy: 0.8925\n",
      "\n",
      "Epoch 00008: val_loss did not improve from 0.28560\n",
      "Epoch 9/3000\n",
      " - 2s - loss: 0.0028 - accuracy: 0.9989 - val_loss: 0.3687 - val_accuracy: 0.8957\n",
      "\n",
      "Epoch 00009: val_loss did not improve from 0.28560\n",
      "Epoch 10/3000\n",
      " - 2s - loss: 0.0013 - accuracy: 1.0000 - val_loss: 0.4170 - val_accuracy: 0.8894\n",
      "\n",
      "Epoch 00010: val_loss did not improve from 0.28560\n",
      "Epoch 11/3000\n",
      " - 2s - loss: 0.0011 - accuracy: 1.0000 - val_loss: 0.4142 - val_accuracy: 0.8936\n",
      "\n",
      "Epoch 00011: val_loss did not improve from 0.28560\n",
      "Epoch 12/3000\n",
      " - 2s - loss: 0.0033 - accuracy: 0.9989 - val_loss: 0.3108 - val_accuracy: 0.9073\n",
      "\n",
      "Epoch 00012: val_loss did not improve from 0.28560\n",
      "Epoch 13/3000\n",
      " - 2s - loss: 0.0128 - accuracy: 0.9979 - val_loss: 0.2763 - val_accuracy: 0.9041\n",
      "\n",
      "Epoch 00013: val_loss improved from 0.28560 to 0.27629, saving model to ./model_save/13-0.2763.hdf5\n",
      "Epoch 14/3000\n",
      " - 2s - loss: 0.0161 - accuracy: 0.9979 - val_loss: 0.2634 - val_accuracy: 0.9125\n",
      "\n",
      "Epoch 00014: val_loss improved from 0.27629 to 0.26339, saving model to ./model_save/14-0.2634.hdf5\n",
      "Epoch 15/3000\n",
      " - 2s - loss: 0.0042 - accuracy: 0.9989 - val_loss: 0.3233 - val_accuracy: 0.9094\n",
      "\n",
      "Epoch 00015: val_loss did not improve from 0.26339\n",
      "Epoch 16/3000\n",
      " - 2s - loss: 0.0018 - accuracy: 1.0000 - val_loss: 0.3307 - val_accuracy: 0.9083\n",
      "\n",
      "Epoch 00016: val_loss did not improve from 0.26339\n",
      "Epoch 17/3000\n",
      " - 2s - loss: 9.2347e-04 - accuracy: 1.0000 - val_loss: 0.3531 - val_accuracy: 0.9073\n",
      "\n",
      "Epoch 00017: val_loss did not improve from 0.26339\n",
      "Epoch 18/3000\n",
      " - 2s - loss: 6.2063e-04 - accuracy: 1.0000 - val_loss: 0.3717 - val_accuracy: 0.9052\n",
      "\n",
      "Epoch 00018: val_loss did not improve from 0.26339\n",
      "Epoch 19/3000\n",
      " - 2s - loss: 4.6063e-04 - accuracy: 1.0000 - val_loss: 0.3891 - val_accuracy: 0.9031\n",
      "\n",
      "Epoch 00019: val_loss did not improve from 0.26339\n",
      "Epoch 20/3000\n",
      " - 2s - loss: 3.5916e-04 - accuracy: 1.0000 - val_loss: 0.4081 - val_accuracy: 0.9031\n",
      "\n",
      "Epoch 00020: val_loss did not improve from 0.26339\n",
      "Epoch 21/3000\n",
      " - 2s - loss: 2.9157e-04 - accuracy: 1.0000 - val_loss: 0.4205 - val_accuracy: 0.9031\n",
      "\n",
      "Epoch 00021: val_loss did not improve from 0.26339\n",
      "Epoch 22/3000\n",
      " - 2s - loss: 2.4613e-04 - accuracy: 1.0000 - val_loss: 0.4320 - val_accuracy: 0.9020\n",
      "\n",
      "Epoch 00022: val_loss did not improve from 0.26339\n",
      "Epoch 23/3000\n",
      " - 2s - loss: 2.0555e-04 - accuracy: 1.0000 - val_loss: 0.4423 - val_accuracy: 0.9009\n",
      "\n",
      "Epoch 00023: val_loss did not improve from 0.26339\n",
      "Epoch 24/3000\n",
      " - 2s - loss: 1.8049e-04 - accuracy: 1.0000 - val_loss: 0.4563 - val_accuracy: 0.8999\n",
      "\n",
      "Epoch 00024: val_loss did not improve from 0.26339\n",
      "Epoch 25/3000\n",
      " - 2s - loss: 1.5654e-04 - accuracy: 1.0000 - val_loss: 0.4670 - val_accuracy: 0.9009\n",
      "\n",
      "Epoch 00025: val_loss did not improve from 0.26339\n",
      "Epoch 26/3000\n",
      " - 2s - loss: 1.4006e-04 - accuracy: 1.0000 - val_loss: 0.4760 - val_accuracy: 0.8967\n",
      "\n",
      "Epoch 00026: val_loss did not improve from 0.26339\n",
      "Epoch 27/3000\n",
      " - 2s - loss: 1.2454e-04 - accuracy: 1.0000 - val_loss: 0.4842 - val_accuracy: 0.8978\n",
      "\n",
      "Epoch 00027: val_loss did not improve from 0.26339\n",
      "Epoch 28/3000\n",
      " - 2s - loss: 1.1376e-04 - accuracy: 1.0000 - val_loss: 0.4934 - val_accuracy: 0.8957\n",
      "\n",
      "Epoch 00028: val_loss did not improve from 0.26339\n",
      "Epoch 29/3000\n",
      " - 2s - loss: 1.0260e-04 - accuracy: 1.0000 - val_loss: 0.5024 - val_accuracy: 0.8936\n",
      "\n",
      "Epoch 00029: val_loss did not improve from 0.26339\n",
      "Epoch 30/3000\n",
      " - 2s - loss: 9.4928e-05 - accuracy: 1.0000 - val_loss: 0.5085 - val_accuracy: 0.8946\n",
      "\n",
      "Epoch 00030: val_loss did not improve from 0.26339\n",
      "Epoch 31/3000\n",
      " - 2s - loss: 8.5171e-05 - accuracy: 1.0000 - val_loss: 0.5177 - val_accuracy: 0.8936\n",
      "\n",
      "Epoch 00031: val_loss did not improve from 0.26339\n",
      "Epoch 32/3000\n",
      " - 2s - loss: 7.8364e-05 - accuracy: 1.0000 - val_loss: 0.5247 - val_accuracy: 0.8936\n",
      "\n",
      "Epoch 00032: val_loss did not improve from 0.26339\n",
      "Epoch 33/3000\n",
      " - 2s - loss: 7.3177e-05 - accuracy: 1.0000 - val_loss: 0.5318 - val_accuracy: 0.8936\n",
      "\n",
      "Epoch 00033: val_loss did not improve from 0.26339\n",
      "Epoch 34/3000\n",
      " - 2s - loss: 6.7958e-05 - accuracy: 1.0000 - val_loss: 0.5371 - val_accuracy: 0.8936\n",
      "\n",
      "Epoch 00034: val_loss did not improve from 0.26339\n",
      "Epoch 35/3000\n",
      " - 2s - loss: 6.3511e-05 - accuracy: 1.0000 - val_loss: 0.5441 - val_accuracy: 0.8925\n",
      "\n",
      "Epoch 00035: val_loss did not improve from 0.26339\n",
      "Epoch 36/3000\n",
      " - 2s - loss: 5.8434e-05 - accuracy: 1.0000 - val_loss: 0.5489 - val_accuracy: 0.8925\n",
      "\n",
      "Epoch 00036: val_loss did not improve from 0.26339\n",
      "Epoch 37/3000\n",
      " - 2s - loss: 5.6522e-05 - accuracy: 1.0000 - val_loss: 0.5573 - val_accuracy: 0.8915\n",
      "\n",
      "Epoch 00037: val_loss did not improve from 0.26339\n",
      "Epoch 38/3000\n",
      " - 2s - loss: 5.0771e-05 - accuracy: 1.0000 - val_loss: 0.5596 - val_accuracy: 0.8925\n",
      "\n",
      "Epoch 00038: val_loss did not improve from 0.26339\n",
      "Epoch 39/3000\n",
      " - 2s - loss: 4.8903e-05 - accuracy: 1.0000 - val_loss: 0.5654 - val_accuracy: 0.8904\n",
      "\n",
      "Epoch 00039: val_loss did not improve from 0.26339\n",
      "Epoch 40/3000\n",
      " - 2s - loss: 4.6476e-05 - accuracy: 1.0000 - val_loss: 0.5699 - val_accuracy: 0.8925\n",
      "\n",
      "Epoch 00040: val_loss did not improve from 0.26339\n",
      "Epoch 41/3000\n",
      " - 2s - loss: 4.4773e-05 - accuracy: 1.0000 - val_loss: 0.5776 - val_accuracy: 0.8904\n",
      "\n",
      "Epoch 00041: val_loss did not improve from 0.26339\n",
      "Epoch 42/3000\n",
      " - 2s - loss: 4.2262e-05 - accuracy: 1.0000 - val_loss: 0.5803 - val_accuracy: 0.8904\n",
      "\n",
      "Epoch 00042: val_loss did not improve from 0.26339\n",
      "Epoch 43/3000\n",
      " - 2s - loss: 4.0213e-05 - accuracy: 1.0000 - val_loss: 0.5892 - val_accuracy: 0.8936\n",
      "\n",
      "Epoch 00043: val_loss did not improve from 0.26339\n",
      "Epoch 44/3000\n",
      " - 2s - loss: 3.6317e-05 - accuracy: 1.0000 - val_loss: 0.5901 - val_accuracy: 0.8904\n",
      "\n",
      "Epoch 00044: val_loss did not improve from 0.26339\n",
      "Epoch 45/3000\n",
      " - 2s - loss: 3.5172e-05 - accuracy: 1.0000 - val_loss: 0.5945 - val_accuracy: 0.8904\n",
      "\n",
      "Epoch 00045: val_loss did not improve from 0.26339\n",
      "Epoch 46/3000\n",
      " - 2s - loss: 3.3022e-05 - accuracy: 1.0000 - val_loss: 0.5990 - val_accuracy: 0.8904\n",
      "\n",
      "Epoch 00046: val_loss did not improve from 0.26339\n",
      "Epoch 47/3000\n",
      " - 2s - loss: 3.0990e-05 - accuracy: 1.0000 - val_loss: 0.6032 - val_accuracy: 0.8904\n",
      "\n",
      "Epoch 00047: val_loss did not improve from 0.26339\n",
      "Epoch 48/3000\n",
      " - 2s - loss: 2.9773e-05 - accuracy: 1.0000 - val_loss: 0.6078 - val_accuracy: 0.8904\n",
      "\n",
      "Epoch 00048: val_loss did not improve from 0.26339\n",
      "Epoch 49/3000\n",
      " - 2s - loss: 2.8867e-05 - accuracy: 1.0000 - val_loss: 0.6119 - val_accuracy: 0.8904\n",
      "\n",
      "Epoch 00049: val_loss did not improve from 0.26339\n",
      "Epoch 50/3000\n",
      " - 2s - loss: 2.7754e-05 - accuracy: 1.0000 - val_loss: 0.6175 - val_accuracy: 0.8904\n",
      "\n",
      "Epoch 00050: val_loss did not improve from 0.26339\n",
      "Epoch 51/3000\n",
      " - 2s - loss: 2.6405e-05 - accuracy: 1.0000 - val_loss: 0.6199 - val_accuracy: 0.8904\n",
      "\n",
      "Epoch 00051: val_loss did not improve from 0.26339\n",
      "Epoch 52/3000\n",
      " - 2s - loss: 2.5201e-05 - accuracy: 1.0000 - val_loss: 0.6246 - val_accuracy: 0.8904\n",
      "\n",
      "Epoch 00052: val_loss did not improve from 0.26339\n",
      "Epoch 53/3000\n",
      " - 2s - loss: 2.4060e-05 - accuracy: 1.0000 - val_loss: 0.6284 - val_accuracy: 0.8904\n"
     ]
    },
    {
     "name": "stdout",
     "output_type": "stream",
     "text": [
      "\n",
      "Epoch 00053: val_loss did not improve from 0.26339\n",
      "Epoch 54/3000\n",
      " - 2s - loss: 2.3283e-05 - accuracy: 1.0000 - val_loss: 0.6312 - val_accuracy: 0.8904\n",
      "\n",
      "Epoch 00054: val_loss did not improve from 0.26339\n",
      "Epoch 55/3000\n",
      " - 2s - loss: 2.2510e-05 - accuracy: 1.0000 - val_loss: 0.6347 - val_accuracy: 0.8904\n",
      "\n",
      "Epoch 00055: val_loss did not improve from 0.26339\n",
      "Epoch 56/3000\n",
      " - 2s - loss: 2.1388e-05 - accuracy: 1.0000 - val_loss: 0.6381 - val_accuracy: 0.8915\n",
      "\n",
      "Epoch 00056: val_loss did not improve from 0.26339\n",
      "Epoch 57/3000\n",
      " - 2s - loss: 2.0859e-05 - accuracy: 1.0000 - val_loss: 0.6432 - val_accuracy: 0.8894\n",
      "\n",
      "Epoch 00057: val_loss did not improve from 0.26339\n",
      "Epoch 58/3000\n",
      " - 2s - loss: 2.1238e-05 - accuracy: 1.0000 - val_loss: 0.6438 - val_accuracy: 0.8894\n",
      "\n",
      "Epoch 00058: val_loss did not improve from 0.26339\n",
      "Epoch 59/3000\n",
      " - 2s - loss: 1.9579e-05 - accuracy: 1.0000 - val_loss: 0.6481 - val_accuracy: 0.8915\n",
      "\n",
      "Epoch 00059: val_loss did not improve from 0.26339\n",
      "Epoch 60/3000\n",
      " - 2s - loss: 1.8155e-05 - accuracy: 1.0000 - val_loss: 0.6503 - val_accuracy: 0.8894\n",
      "\n",
      "Epoch 00060: val_loss did not improve from 0.26339\n",
      "Epoch 61/3000\n",
      " - 2s - loss: 1.7785e-05 - accuracy: 1.0000 - val_loss: 0.6539 - val_accuracy: 0.8883\n",
      "\n",
      "Epoch 00061: val_loss did not improve from 0.26339\n",
      "Epoch 62/3000\n",
      " - 2s - loss: 1.7723e-05 - accuracy: 1.0000 - val_loss: 0.6564 - val_accuracy: 0.8894\n",
      "\n",
      "Epoch 00062: val_loss did not improve from 0.26339\n",
      "Epoch 63/3000\n",
      " - 2s - loss: 1.6993e-05 - accuracy: 1.0000 - val_loss: 0.6604 - val_accuracy: 0.8883\n",
      "\n",
      "Epoch 00063: val_loss did not improve from 0.26339\n",
      "Epoch 64/3000\n",
      " - 2s - loss: 1.6455e-05 - accuracy: 1.0000 - val_loss: 0.6647 - val_accuracy: 0.8894\n",
      "\n",
      "Epoch 00064: val_loss did not improve from 0.26339\n",
      "Epoch 65/3000\n",
      " - 2s - loss: 1.5072e-05 - accuracy: 1.0000 - val_loss: 0.6649 - val_accuracy: 0.8904\n",
      "\n",
      "Epoch 00065: val_loss did not improve from 0.26339\n",
      "Epoch 66/3000\n",
      " - 2s - loss: 1.5283e-05 - accuracy: 1.0000 - val_loss: 0.6686 - val_accuracy: 0.8883\n",
      "\n",
      "Epoch 00066: val_loss did not improve from 0.26339\n",
      "Epoch 67/3000\n",
      " - 2s - loss: 1.4624e-05 - accuracy: 1.0000 - val_loss: 0.6714 - val_accuracy: 0.8872\n",
      "\n",
      "Epoch 00067: val_loss did not improve from 0.26339\n",
      "Epoch 68/3000\n",
      " - 2s - loss: 1.4322e-05 - accuracy: 1.0000 - val_loss: 0.6750 - val_accuracy: 0.8883\n",
      "\n",
      "Epoch 00068: val_loss did not improve from 0.26339\n",
      "Epoch 69/3000\n",
      " - 2s - loss: 1.3725e-05 - accuracy: 1.0000 - val_loss: 0.6762 - val_accuracy: 0.8872\n",
      "\n",
      "Epoch 00069: val_loss did not improve from 0.26339\n",
      "Epoch 70/3000\n",
      " - 2s - loss: 1.3573e-05 - accuracy: 1.0000 - val_loss: 0.6800 - val_accuracy: 0.8872\n",
      "\n",
      "Epoch 00070: val_loss did not improve from 0.26339\n",
      "Epoch 71/3000\n",
      " - 2s - loss: 1.2602e-05 - accuracy: 1.0000 - val_loss: 0.6826 - val_accuracy: 0.8872\n",
      "\n",
      "Epoch 00071: val_loss did not improve from 0.26339\n",
      "Epoch 72/3000\n",
      " - 2s - loss: 1.2468e-05 - accuracy: 1.0000 - val_loss: 0.6861 - val_accuracy: 0.8872\n",
      "\n",
      "Epoch 00072: val_loss did not improve from 0.26339\n",
      "Epoch 73/3000\n",
      " - 2s - loss: 1.1874e-05 - accuracy: 1.0000 - val_loss: 0.6892 - val_accuracy: 0.8872\n",
      "\n",
      "Epoch 00073: val_loss did not improve from 0.26339\n",
      "Epoch 74/3000\n",
      " - 2s - loss: 1.1630e-05 - accuracy: 1.0000 - val_loss: 0.6914 - val_accuracy: 0.8883\n",
      "\n",
      "Epoch 00074: val_loss did not improve from 0.26339\n",
      "Epoch 75/3000\n",
      " - 2s - loss: 1.1413e-05 - accuracy: 1.0000 - val_loss: 0.6938 - val_accuracy: 0.8872\n",
      "\n",
      "Epoch 00075: val_loss did not improve from 0.26339\n",
      "Epoch 76/3000\n",
      " - 2s - loss: 1.1073e-05 - accuracy: 1.0000 - val_loss: 0.6963 - val_accuracy: 0.8862\n",
      "\n",
      "Epoch 00076: val_loss did not improve from 0.26339\n",
      "Epoch 77/3000\n",
      " - 2s - loss: 1.0740e-05 - accuracy: 1.0000 - val_loss: 0.6984 - val_accuracy: 0.8862\n",
      "\n",
      "Epoch 00077: val_loss did not improve from 0.26339\n",
      "Epoch 78/3000\n",
      " - 2s - loss: 1.0843e-05 - accuracy: 1.0000 - val_loss: 0.7009 - val_accuracy: 0.8862\n",
      "\n",
      "Epoch 00078: val_loss did not improve from 0.26339\n",
      "Epoch 79/3000\n",
      " - 2s - loss: 1.0099e-05 - accuracy: 1.0000 - val_loss: 0.7035 - val_accuracy: 0.8872\n",
      "\n",
      "Epoch 00079: val_loss did not improve from 0.26339\n",
      "Epoch 80/3000\n",
      " - 2s - loss: 9.8353e-06 - accuracy: 1.0000 - val_loss: 0.7054 - val_accuracy: 0.8841\n",
      "\n",
      "Epoch 00080: val_loss did not improve from 0.26339\n",
      "Epoch 81/3000\n",
      " - 2s - loss: 9.3908e-06 - accuracy: 1.0000 - val_loss: 0.7092 - val_accuracy: 0.8872\n",
      "\n",
      "Epoch 00081: val_loss did not improve from 0.26339\n",
      "Epoch 82/3000\n",
      " - 2s - loss: 9.3816e-06 - accuracy: 1.0000 - val_loss: 0.7117 - val_accuracy: 0.8883\n",
      "\n",
      "Epoch 00082: val_loss did not improve from 0.26339\n",
      "Epoch 83/3000\n",
      " - 2s - loss: 8.8341e-06 - accuracy: 1.0000 - val_loss: 0.7127 - val_accuracy: 0.8809\n",
      "\n",
      "Epoch 00083: val_loss did not improve from 0.26339\n",
      "Epoch 84/3000\n",
      " - 2s - loss: 8.8028e-06 - accuracy: 1.0000 - val_loss: 0.7156 - val_accuracy: 0.8809\n",
      "\n",
      "Epoch 00084: val_loss did not improve from 0.26339\n",
      "Epoch 85/3000\n",
      " - 2s - loss: 8.7294e-06 - accuracy: 1.0000 - val_loss: 0.7177 - val_accuracy: 0.8820\n",
      "\n",
      "Epoch 00085: val_loss did not improve from 0.26339\n",
      "Epoch 86/3000\n",
      " - 2s - loss: 8.3606e-06 - accuracy: 1.0000 - val_loss: 0.7212 - val_accuracy: 0.8872\n",
      "\n",
      "Epoch 00086: val_loss did not improve from 0.26339\n",
      "Epoch 87/3000\n",
      " - 2s - loss: 8.0455e-06 - accuracy: 1.0000 - val_loss: 0.7234 - val_accuracy: 0.8830\n",
      "\n",
      "Epoch 00087: val_loss did not improve from 0.26339\n",
      "Epoch 88/3000\n",
      " - 2s - loss: 7.8149e-06 - accuracy: 1.0000 - val_loss: 0.7243 - val_accuracy: 0.8788\n",
      "\n",
      "Epoch 00088: val_loss did not improve from 0.26339\n",
      "Epoch 89/3000\n",
      " - 2s - loss: 7.9990e-06 - accuracy: 1.0000 - val_loss: 0.7275 - val_accuracy: 0.8862\n",
      "\n",
      "Epoch 00089: val_loss did not improve from 0.26339\n",
      "Epoch 90/3000\n",
      " - 2s - loss: 7.4055e-06 - accuracy: 1.0000 - val_loss: 0.7289 - val_accuracy: 0.8799\n",
      "\n",
      "Epoch 00090: val_loss did not improve from 0.26339\n",
      "Epoch 91/3000\n",
      " - 2s - loss: 7.3819e-06 - accuracy: 1.0000 - val_loss: 0.7314 - val_accuracy: 0.8799\n",
      "\n",
      "Epoch 00091: val_loss did not improve from 0.26339\n",
      "Epoch 92/3000\n",
      " - 2s - loss: 7.5041e-06 - accuracy: 1.0000 - val_loss: 0.7352 - val_accuracy: 0.8841\n",
      "\n",
      "Epoch 00092: val_loss did not improve from 0.26339\n",
      "Epoch 93/3000\n",
      " - 2s - loss: 7.1881e-06 - accuracy: 1.0000 - val_loss: 0.7358 - val_accuracy: 0.8799\n",
      "\n",
      "Epoch 00093: val_loss did not improve from 0.26339\n",
      "Epoch 94/3000\n",
      " - 2s - loss: 6.5879e-06 - accuracy: 1.0000 - val_loss: 0.7391 - val_accuracy: 0.8841\n",
      "\n",
      "Epoch 00094: val_loss did not improve from 0.26339\n",
      "Epoch 95/3000\n",
      " - 2s - loss: 6.7596e-06 - accuracy: 1.0000 - val_loss: 0.7413 - val_accuracy: 0.8830\n",
      "\n",
      "Epoch 00095: val_loss did not improve from 0.26339\n",
      "Epoch 96/3000\n",
      " - 2s - loss: 6.6848e-06 - accuracy: 1.0000 - val_loss: 0.7428 - val_accuracy: 0.8820\n",
      "\n",
      "Epoch 00096: val_loss did not improve from 0.26339\n",
      "Epoch 97/3000\n",
      " - 2s - loss: 6.3015e-06 - accuracy: 1.0000 - val_loss: 0.7439 - val_accuracy: 0.8820\n",
      "\n",
      "Epoch 00097: val_loss did not improve from 0.26339\n",
      "Epoch 98/3000\n",
      " - 2s - loss: 6.2865e-06 - accuracy: 1.0000 - val_loss: 0.7465 - val_accuracy: 0.8799\n",
      "\n",
      "Epoch 00098: val_loss did not improve from 0.26339\n",
      "Epoch 99/3000\n",
      " - 2s - loss: 5.9530e-06 - accuracy: 1.0000 - val_loss: 0.7488 - val_accuracy: 0.8809\n",
      "\n",
      "Epoch 00099: val_loss did not improve from 0.26339\n",
      "Epoch 100/3000\n",
      " - 2s - loss: 5.9636e-06 - accuracy: 1.0000 - val_loss: 0.7505 - val_accuracy: 0.8809\n",
      "\n",
      "Epoch 00100: val_loss did not improve from 0.26339\n",
      "Epoch 101/3000\n",
      " - 2s - loss: 5.9585e-06 - accuracy: 1.0000 - val_loss: 0.7534 - val_accuracy: 0.8809\n",
      "\n",
      "Epoch 00101: val_loss did not improve from 0.26339\n",
      "Epoch 102/3000\n",
      " - 2s - loss: 5.6197e-06 - accuracy: 1.0000 - val_loss: 0.7541 - val_accuracy: 0.8799\n",
      "\n",
      "Epoch 00102: val_loss did not improve from 0.26339\n",
      "Epoch 103/3000\n",
      " - 2s - loss: 5.5279e-06 - accuracy: 1.0000 - val_loss: 0.7592 - val_accuracy: 0.8851\n",
      "\n",
      "Epoch 00103: val_loss did not improve from 0.26339\n",
      "Epoch 104/3000\n",
      " - 2s - loss: 5.1807e-06 - accuracy: 1.0000 - val_loss: 0.7597 - val_accuracy: 0.8788\n",
      "\n",
      "Epoch 00104: val_loss did not improve from 0.26339\n",
      "Epoch 105/3000\n",
      " - 2s - loss: 5.3084e-06 - accuracy: 1.0000 - val_loss: 0.7614 - val_accuracy: 0.8788\n",
      "\n",
      "Epoch 00105: val_loss did not improve from 0.26339\n",
      "Epoch 106/3000\n",
      " - 2s - loss: 5.0896e-06 - accuracy: 1.0000 - val_loss: 0.7639 - val_accuracy: 0.8799\n",
      "\n",
      "Epoch 00106: val_loss did not improve from 0.26339\n",
      "Epoch 107/3000\n",
      " - 2s - loss: 5.1557e-06 - accuracy: 1.0000 - val_loss: 0.7654 - val_accuracy: 0.8809\n"
     ]
    },
    {
     "name": "stdout",
     "output_type": "stream",
     "text": [
      "\n",
      "Epoch 00107: val_loss did not improve from 0.26339\n",
      "Epoch 108/3000\n",
      " - 2s - loss: 4.9389e-06 - accuracy: 1.0000 - val_loss: 0.7667 - val_accuracy: 0.8809\n",
      "\n",
      "Epoch 00108: val_loss did not improve from 0.26339\n",
      "Epoch 109/3000\n",
      " - 2s - loss: 4.6722e-06 - accuracy: 1.0000 - val_loss: 0.7717 - val_accuracy: 0.8820\n",
      "\n",
      "Epoch 00109: val_loss did not improve from 0.26339\n",
      "Epoch 110/3000\n",
      " - 2s - loss: 4.7812e-06 - accuracy: 1.0000 - val_loss: 0.7718 - val_accuracy: 0.8809\n",
      "\n",
      "Epoch 00110: val_loss did not improve from 0.26339\n",
      "Epoch 111/3000\n",
      " - 2s - loss: 4.6020e-06 - accuracy: 1.0000 - val_loss: 0.7731 - val_accuracy: 0.8809\n",
      "\n",
      "Epoch 00111: val_loss did not improve from 0.26339\n",
      "Epoch 112/3000\n",
      " - 2s - loss: 4.4846e-06 - accuracy: 1.0000 - val_loss: 0.7760 - val_accuracy: 0.8830\n",
      "\n",
      "Epoch 00112: val_loss did not improve from 0.26339\n",
      "Epoch 113/3000\n",
      " - 2s - loss: 4.2769e-06 - accuracy: 1.0000 - val_loss: 0.7772 - val_accuracy: 0.8809\n",
      "\n",
      "Epoch 00113: val_loss did not improve from 0.26339\n",
      "Epoch 114/3000\n",
      " - 2s - loss: 4.6433e-06 - accuracy: 1.0000 - val_loss: 0.7796 - val_accuracy: 0.8799\n",
      "\n",
      "Epoch 00114: val_loss did not improve from 0.26339\n"
     ]
    }
   ],
   "source": [
    "hist2 = model2.fit(X_train, y_train, validation_data=(X_test, y_test), epochs=3000, verbose=2, callbacks=[checkpointer,early_stopping_callback])"
   ]
  },
  {
   "cell_type": "code",
   "execution_count": 26,
   "metadata": {},
   "outputs": [
    {
     "data": {
      "image/png": "[encoded data removed]",
      "text/plain": [
       "<Figure size 360x288 with 1 Axes>"
      ]
     },
     "metadata": {
      "needs_background": "light"
     },
     "output_type": "display_data"
    }
   ],
   "source": [
    "import matplotlib.pyplot as plt\n",
    "#import matplotlib.font_manager as fm\n",
    "#fm.get_fontconfig_fonts()\n",
    "#font_path=\"D:\\\\ai\\\\기말대체\\\\NanumFontSetup_TTF_GOTHIC\\\\NanumGothic.ttf\"\n",
    "#font_name = fm.FontProperties(fname=font_path).get_name()\n",
    "#plt.rc('font', family=font_name, size=12) \n",
    "plt.figure(figsize=(5,4))\n",
    "plt.title('Comparison of error rate and accuracy between training and testing datasets(model2)', fontsize=14)\n",
    "\n",
    "plt.plot(hist2.history['loss'])      # 학습 데이터셋의 loss   -> loss \n",
    "plt.plot(hist2.history['val_loss'])  # 테스트 데이터셋의 loss -> val_loss\n",
    "\n",
    "plt.plot(hist2.history['accuracy'])      # 학습 데이터셋의 accuracy    -> accuracy \n",
    "plt.plot(hist2.history['val_accuracy'])  # 테스트 데이터셋의 accuracy  -> val_accuracy \n",
    "\n",
    "plt.legend(['loss','val_loss','accuracy', 'val_accuracy' ])     # 범례\n",
    "plt.grid()\n",
    "plt.show()"
   ]
  },
  {
   "cell_type": "code",
   "execution_count": 28,
   "metadata": {},
   "outputs": [],
   "source": [
    "model2.save('model2.h5')  "
   ]
  },
  {
   "cell_type": "code",
   "execution_count": null,
   "metadata": {},
   "outputs": [],
   "source": []
  }
 ],
 "metadata": {
  "kernelspec": {
   "display_name": "Python 3",
   "language": "python",
   "name": "python3"
  },
  "language_info": {
   "codemirror_mode": {
    "name": "ipython",
    "version": 3
   },
   "file_extension": ".py",
   "mimetype": "text/x-python",
   "name": "python",
   "nbconvert_exporter": "python",
   "pygments_lexer": "ipython3",
   "version": "3.7.9"
  }
 },
 "nbformat": 4,
 "nbformat_minor": 4
}
