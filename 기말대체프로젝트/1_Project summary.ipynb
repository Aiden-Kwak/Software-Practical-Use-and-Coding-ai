{
 "cells": [
  {
   "cell_type": "markdown",
   "metadata": {},
   "source": [
    "이전 중간대체 과제에서 주식 거래량 상위종목을 추출하여 공시와 뉴스를 크롤링하였다. 이번에는 그렇게 크롤링한 것을 positive, negative, neutral로 분류하는 모델을 생성한다. (기업에 호재가 있는지 악재가 있는지 빠른 판단을 위함)"
   ]
  },
  {
   "cell_type": "markdown",
   "metadata": {},
   "source": [
    "\n",
    "느낀점: 사실 다른 주제를 해보고 싶었는데 좋은 데이터를 얻어내기가 쉽지 않았다.<br>\n",
    "그래서 중간때 제출한 과제를 이용하기로 했는데 이미 만들어놓은 것이니 쉬울것이라 생각했지만 <br>\n",
    "용도에 맞추어 가공하는 작업이 꽤 많이 필요했다. 좋은 데이터를 얻어내는 것이 얼마나 힘든지를 느꼈다<br>\n",
    "또한 가공을 위해 써보지 않았던 새로운 모듈들을 찾아봐 임포트하고 사용해보았다. 인터넷 검색을 통해<br>\n",
    "배운 것 뿐 아니라 새로운 것들을 많이 해볼 수 있겠다는 생각을 하였다.<br>\n",
    "딥러닝 모델을 만들면서 optimizer 변경이나 얼리스탑 적용등 모델을 조금만 바꾸더라도 결과가 많이 달라진다는 것이 신기하게 다가왔다.<br>\n",
    "모델을 계속 수정하는 노력이 중요함을 느꼈다."
   ]
  },
  {
   "cell_type": "code",
   "execution_count": null,
   "metadata": {},
   "outputs": [],
   "source": []
  }
 ],
 "metadata": {
  "kernelspec": {
   "display_name": "Python 3",
   "language": "python",
   "name": "python3"
  },
  "language_info": {
   "codemirror_mode": {
    "name": "ipython",
    "version": 3
   },
   "file_extension": ".py",
   "mimetype": "text/x-python",
   "name": "python",
   "nbconvert_exporter": "python",
   "pygments_lexer": "ipython3",
   "version": "3.7.9"
  }
 },
 "nbformat": 4,
 "nbformat_minor": 4
}
