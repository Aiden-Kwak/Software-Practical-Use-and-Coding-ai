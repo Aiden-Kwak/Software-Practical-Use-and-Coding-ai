{
 "cells": [
  {
   "cell_type": "markdown",
   "metadata": {},
   "source": [
    "데이터 전처리"
   ]
  },
  {
   "cell_type": "code",
   "execution_count": 1,
   "metadata": {},
   "outputs": [],
   "source": [
    "import pandas as pd\n",
    "import matplotlib.pyplot as plt\n",
    "import konlpy\n",
    "from konlpy.tag import Okt\n",
    "import numpy as np"
   ]
  },
  {
   "cell_type": "code",
   "execution_count": 2,
   "metadata": {},
   "outputs": [],
   "source": [
    "train_data=pd.read_csv('D:\\\\ai\\\\기말대체\\\\Data set_1.csv')\n",
    "test_data=pd.read_csv('D:\\\\ai\\\\기말대체\\\\Data set_2.csv')"
   ]
  },
  {
   "cell_type": "code",
   "execution_count": 3,
   "metadata": {},
   "outputs": [],
   "source": [
    "stopwords=['로','에','등','으로','및','과','되며','한']"
   ]
  },
  {
   "cell_type": "code",
   "execution_count": 4,
   "metadata": {},
   "outputs": [],
   "source": [
    "okt=Okt()\n",
    "X_train=[]\n",
    "for sentence in train_data['title']:\n",
    "    temp_X=[]\n",
    "    temp_X=okt.morphs(sentence,stem=True)\n",
    "    temp_X=[word for word in temp_X if not word in stopwords]\n",
    "    X_train.append(temp_X)\n",
    "X_test=[]\n",
    "for sentence in test_data['title']:\n",
    "    temp_X=[]\n",
    "    temp_X=okt.morphs(sentence,stem=True)\n",
    "    temp_X=[word for word in temp_X if not word in stopwords]\n",
    "    X_test.append(temp_X)"
   ]
  },
  {
   "cell_type": "code",
   "execution_count": 5,
   "metadata": {},
   "outputs": [
    {
     "name": "stdout",
     "output_type": "stream",
     "text": [
      "[['CMG', '제약', '외국인', '12만', '9000', '주', '순', '매수', '주가', '058'], ['CMG', '제약', '외국인', '8만', '6000', '주', '순', '매수', '주가', '246'], ['CMG', '제약', '검색', '상위', '랭킹', '주가', '159']]\n"
     ]
    }
   ],
   "source": [
    "print(X_train[:3])"
   ]
  },
  {
   "cell_type": "code",
   "execution_count": 6,
   "metadata": {},
   "outputs": [
    {
     "name": "stdout",
     "output_type": "stream",
     "text": [
      "[['fnRASSI', '씨', '케이', '에이치', '900120', '1185', '상승'], ['fnRASSI', '씨', '케이', '에이치', '900120', '899', '상승'], ['코스닥', '人', '씨', '케이', '에이치', '화장품', '·', '건기', '식', '사업', '두', '마리', '토끼', '잡다']]\n"
     ]
    }
   ],
   "source": [
    "print(X_test[:3])"
   ]
  },
  {
   "cell_type": "markdown",
   "metadata": {},
   "source": [
    "토큰화한 단어를 정수인코딩"
   ]
  },
  {
   "cell_type": "code",
   "execution_count": 7,
   "metadata": {},
   "outputs": [
    {
     "name": "stderr",
     "output_type": "stream",
     "text": [
      "Using TensorFlow backend.\n"
     ]
    }
   ],
   "source": [
    "from keras.preprocessing.text import Tokenizer\n",
    "max_words=35000\n",
    "tokenizer=Tokenizer(num_words=max_words)\n",
    "tokenizer.fit_on_texts(X_train)\n",
    "X_train=tokenizer.texts_to_sequences(X_train)\n",
    "X_test=tokenizer.texts_to_sequences(X_test)"
   ]
  },
  {
   "cell_type": "code",
   "execution_count": 8,
   "metadata": {},
   "outputs": [
    {
     "name": "stdout",
     "output_type": "stream",
     "text": [
      "[[105, 70, 22, 858, 583, 8, 18, 20, 4, 859], [105, 70, 22, 860, 584, 8, 18, 20, 4, 585], [105, 70, 44, 50, 51, 4, 445]]\n"
     ]
    }
   ],
   "source": [
    "print(X_train[:3])"
   ]
  },
  {
   "cell_type": "code",
   "execution_count": 9,
   "metadata": {},
   "outputs": [
    {
     "name": "stdout",
     "output_type": "stream",
     "text": [
      "[[12, 66, 180, 202, 1897, 1], [12, 66, 180, 202, 1897, 1], [35, 66, 180, 202, 763, 5, 662, 65, 1292]]\n"
     ]
    }
   ],
   "source": [
    "print(X_test[:3])"
   ]
  },
  {
   "cell_type": "markdown",
   "metadata": {},
   "source": [
    "label data -1,0,1에 대해서 one hot encoding"
   ]
  },
  {
   "cell_type": "code",
   "execution_count": 10,
   "metadata": {},
   "outputs": [],
   "source": [
    "y_train=[]\n",
    "y_test=[]\n",
    "\n",
    "for i in range(len(train_data['label'])):\n",
    "    if train_data['label'].iloc[i]==1:\n",
    "        y_train.append([0,0,1])\n",
    "    elif train_data['label'].iloc[i]==0:\n",
    "        y_train.append([0,1,0])\n",
    "    elif train_data['label'].iloc[i]==-1:\n",
    "        y_train.append([1,0,0])\n",
    "\n",
    "for i in range(len(test_data['label'])):\n",
    "    if test_data['label'].iloc[i]==1:\n",
    "        y_test.append([0,0,1])\n",
    "    elif test_data['label'].iloc[i]==0:\n",
    "        y_test.append([0,1,0])\n",
    "    elif test_data['label'].iloc[i]==-1:\n",
    "        y_test.append([1,0,0])\n",
    "        \n",
    "y_train=np.array(y_train)\n",
    "y_test=np.array(y_test)"
   ]
  },
  {
   "cell_type": "code",
   "execution_count": 11,
   "metadata": {},
   "outputs": [
    {
     "data": {
      "text/plain": [
       "array([[0, 0, 1],\n",
       "       [0, 0, 1],\n",
       "       [0, 1, 0],\n",
       "       ...,\n",
       "       [0, 1, 0],\n",
       "       [0, 1, 0],\n",
       "       [0, 1, 0]])"
      ]
     },
     "execution_count": 11,
     "metadata": {},
     "output_type": "execute_result"
    }
   ],
   "source": [
    "y_train"
   ]
  },
  {
   "cell_type": "code",
   "execution_count": 12,
   "metadata": {},
   "outputs": [
    {
     "data": {
      "text/plain": [
       "array([[0, 0, 1],\n",
       "       [0, 0, 1],\n",
       "       [0, 1, 0],\n",
       "       ...,\n",
       "       [0, 0, 1],\n",
       "       [0, 0, 1],\n",
       "       [0, 1, 0]])"
      ]
     },
     "execution_count": 12,
     "metadata": {},
     "output_type": "execute_result"
    }
   ],
   "source": [
    "y_test"
   ]
  },
  {
   "cell_type": "markdown",
   "metadata": {},
   "source": [
    "딥러닝 earlystopping callback적용한 모델2"
   ]
  },
  {
   "cell_type": "code",
   "execution_count": 13,
   "metadata": {},
   "outputs": [],
   "source": [
    "from keras.layers import Dense, LSTM, Embedding\n",
    "from keras.models import Sequential\n",
    "from keras.preprocessing.sequence import pad_sequences\n",
    "import tensorflow as tf\n",
    "from keras.callbacks import ModelCheckpoint,EarlyStopping\n",
    "\n",
    "np.random.seed(3)\n",
    "tf.random.set_seed(3)\n",
    "\n",
    "max_len=20\n",
    "X_train=pad_sequences(X_train, maxlen=max_len)\n",
    "X_test=pad_sequences(X_test,maxlen=max_len)"
   ]
  },
  {
   "cell_type": "code",
   "execution_count": 18,
   "metadata": {},
   "outputs": [],
   "source": [
    "model3 = Sequential()\n",
    "model3.add(Embedding(max_words,100))\n",
    "model3.add(LSTM(128)) #layer에 포함되는 unit개수가 128개일때 대체로 괜찮은가보다\n",
    "model3.add(Dense(3, activation='softmax'))  # 활성화 함수 softmax 사용\n",
    "\n",
    "model3.compile(loss='categorical_crossentropy', optimizer='adam', metrics=['accuracy'])"
   ]
  },
  {
   "cell_type": "code",
   "execution_count": 19,
   "metadata": {},
   "outputs": [],
   "source": [
    "# 모델 저장 폴더 만들기\n",
    "import os\n",
    "MODEL_DIR = './model3_save/'\n",
    "if not os.path.exists(MODEL_DIR):\n",
    "   os.mkdir(MODEL_DIR)"
   ]
  },
  {
   "cell_type": "code",
   "execution_count": 20,
   "metadata": {},
   "outputs": [],
   "source": [
    "#파일명에 epoch와 val_loss를 기록하도록 설정 \n",
    "modelpath=\"./model3_save/{epoch:02d}-{val_loss:.4f}.hdf5\" \n",
    "\n",
    "# 모델 업데이트 및 저장\n",
    "checkpointer = ModelCheckpoint(filepath=modelpath, monitor='val_loss', verbose=1, save_best_only=True)"
   ]
  },
  {
   "cell_type": "code",
   "execution_count": 21,
   "metadata": {},
   "outputs": [],
   "source": [
    "# 학습 자동 중단 설정\n",
    "early_stopping_callback = EarlyStopping(monitor='val_loss', patience=100)"
   ]
  },
  {
   "cell_type": "code",
   "execution_count": 22,
   "metadata": {},
   "outputs": [
    {
     "name": "stderr",
     "output_type": "stream",
     "text": [
      "C:\\Users\\Administrator\\.conda\\envs\\ai\\lib\\site-packages\\tensorflow_core\\python\\framework\\indexed_slices.py:424: UserWarning: Converting sparse IndexedSlices to a dense Tensor of unknown shape. This may consume a large amount of memory.\n",
      "  \"Converting sparse IndexedSlices to a dense Tensor of unknown shape. \"\n"
     ]
    },
    {
     "name": "stdout",
     "output_type": "stream",
     "text": [
      "Train on 851 samples, validate on 95 samples\n",
      "Epoch 1/3000\n",
      "851/851 [==============================] - 4s 4ms/step - loss: 0.6991 - accuracy: 0.7192 - val_loss: 0.6602 - val_accuracy: 0.7684\n",
      "\n",
      "Epoch 00001: val_loss improved from inf to 0.66025, saving model to ./model3_save/01-0.6602.hdf5\n",
      "Epoch 2/3000\n",
      "851/851 [==============================] - 3s 4ms/step - loss: 0.2486 - accuracy: 0.9083 - val_loss: 0.5428 - val_accuracy: 0.7789\n",
      "\n",
      "Epoch 00002: val_loss improved from 0.66025 to 0.54284, saving model to ./model3_save/02-0.5428.hdf5\n",
      "Epoch 3/3000\n",
      "851/851 [==============================] - 3s 4ms/step - loss: 0.0881 - accuracy: 0.9788 - val_loss: 0.5590 - val_accuracy: 0.8000\n",
      "\n",
      "Epoch 00003: val_loss did not improve from 0.54284\n",
      "Epoch 4/3000\n",
      "851/851 [==============================] - 3s 4ms/step - loss: 0.0382 - accuracy: 0.9953 - val_loss: 0.5703 - val_accuracy: 0.8105\n",
      "\n",
      "Epoch 00004: val_loss did not improve from 0.54284\n",
      "Epoch 5/3000\n",
      "851/851 [==============================] - 3s 4ms/step - loss: 0.0108 - accuracy: 0.9976 - val_loss: 0.6277 - val_accuracy: 0.7158\n",
      "\n",
      "Epoch 00005: val_loss did not improve from 0.54284\n",
      "Epoch 6/3000\n",
      "851/851 [==============================] - 3s 4ms/step - loss: 0.0056 - accuracy: 0.9976 - val_loss: 0.5930 - val_accuracy: 0.7895\n",
      "\n",
      "Epoch 00006: val_loss did not improve from 0.54284\n",
      "Epoch 7/3000\n",
      "851/851 [==============================] - 3s 4ms/step - loss: 0.0018 - accuracy: 1.0000 - val_loss: 0.6642 - val_accuracy: 0.7895\n",
      "\n",
      "Epoch 00007: val_loss did not improve from 0.54284\n",
      "Epoch 8/3000\n",
      "851/851 [==============================] - 3s 4ms/step - loss: 8.3153e-04 - accuracy: 1.0000 - val_loss: 0.6707 - val_accuracy: 0.7579\n",
      "\n",
      "Epoch 00008: val_loss did not improve from 0.54284\n",
      "Epoch 9/3000\n",
      "851/851 [==============================] - 3s 4ms/step - loss: 5.2253e-04 - accuracy: 1.0000 - val_loss: 0.7094 - val_accuracy: 0.7579\n",
      "\n",
      "Epoch 00009: val_loss did not improve from 0.54284\n",
      "Epoch 10/3000\n",
      "851/851 [==============================] - 3s 4ms/step - loss: 3.9437e-04 - accuracy: 1.0000 - val_loss: 0.7236 - val_accuracy: 0.7053\n",
      "\n",
      "Epoch 00010: val_loss did not improve from 0.54284\n",
      "Epoch 11/3000\n",
      "851/851 [==============================] - 3s 4ms/step - loss: 3.0667e-04 - accuracy: 1.0000 - val_loss: 0.7583 - val_accuracy: 0.7053\n",
      "\n",
      "Epoch 00011: val_loss did not improve from 0.54284\n",
      "Epoch 12/3000\n",
      "851/851 [==============================] - 3s 4ms/step - loss: 2.5902e-04 - accuracy: 1.0000 - val_loss: 0.7863 - val_accuracy: 0.6947\n",
      "\n",
      "Epoch 00012: val_loss did not improve from 0.54284\n",
      "Epoch 13/3000\n",
      "851/851 [==============================] - 3s 4ms/step - loss: 2.0284e-04 - accuracy: 1.0000 - val_loss: 0.8216 - val_accuracy: 0.6947\n",
      "\n",
      "Epoch 00013: val_loss did not improve from 0.54284\n",
      "Epoch 14/3000\n",
      "851/851 [==============================] - 3s 4ms/step - loss: 1.6147e-04 - accuracy: 1.0000 - val_loss: 0.8336 - val_accuracy: 0.7053\n",
      "\n",
      "Epoch 00014: val_loss did not improve from 0.54284\n",
      "Epoch 15/3000\n",
      "851/851 [==============================] - 3s 4ms/step - loss: 1.4459e-04 - accuracy: 1.0000 - val_loss: 0.8604 - val_accuracy: 0.6947\n",
      "\n",
      "Epoch 00015: val_loss did not improve from 0.54284\n",
      "Epoch 16/3000\n",
      "851/851 [==============================] - 3s 4ms/step - loss: 1.1984e-04 - accuracy: 1.0000 - val_loss: 0.8681 - val_accuracy: 0.7053\n",
      "\n",
      "Epoch 00016: val_loss did not improve from 0.54284\n",
      "Epoch 17/3000\n",
      "851/851 [==============================] - 3s 4ms/step - loss: 9.8797e-05 - accuracy: 1.0000 - val_loss: 0.8931 - val_accuracy: 0.6947\n",
      "\n",
      "Epoch 00017: val_loss did not improve from 0.54284\n",
      "Epoch 18/3000\n",
      "851/851 [==============================] - 3s 4ms/step - loss: 8.6928e-05 - accuracy: 1.0000 - val_loss: 0.9095 - val_accuracy: 0.7053\n",
      "\n",
      "Epoch 00018: val_loss did not improve from 0.54284\n",
      "Epoch 19/3000\n",
      "851/851 [==============================] - 3s 4ms/step - loss: 8.1091e-05 - accuracy: 1.0000 - val_loss: 0.9462 - val_accuracy: 0.6947\n",
      "\n",
      "Epoch 00019: val_loss did not improve from 0.54284\n",
      "Epoch 20/3000\n",
      "851/851 [==============================] - 4s 4ms/step - loss: 6.9207e-05 - accuracy: 1.0000 - val_loss: 0.9608 - val_accuracy: 0.6947\n",
      "\n",
      "Epoch 00020: val_loss did not improve from 0.54284\n",
      "Epoch 21/3000\n",
      "851/851 [==============================] - 4s 4ms/step - loss: 6.1810e-05 - accuracy: 1.0000 - val_loss: 0.9903 - val_accuracy: 0.6947\n",
      "\n",
      "Epoch 00021: val_loss did not improve from 0.54284\n",
      "Epoch 22/3000\n",
      "851/851 [==============================] - 3s 4ms/step - loss: 5.1629e-05 - accuracy: 1.0000 - val_loss: 0.9911 - val_accuracy: 0.6947\n",
      "\n",
      "Epoch 00022: val_loss did not improve from 0.54284\n",
      "Epoch 23/3000\n",
      "851/851 [==============================] - 4s 4ms/step - loss: 4.7504e-05 - accuracy: 1.0000 - val_loss: 1.0049 - val_accuracy: 0.6947\n",
      "\n",
      "Epoch 00023: val_loss did not improve from 0.54284\n",
      "Epoch 24/3000\n",
      "851/851 [==============================] - 3s 4ms/step - loss: 4.3540e-05 - accuracy: 1.0000 - val_loss: 1.0162 - val_accuracy: 0.6947\n",
      "\n",
      "Epoch 00024: val_loss did not improve from 0.54284\n",
      "Epoch 25/3000\n",
      "851/851 [==============================] - 3s 4ms/step - loss: 4.1078e-05 - accuracy: 1.0000 - val_loss: 1.0719 - val_accuracy: 0.7053\n",
      "\n",
      "Epoch 00025: val_loss did not improve from 0.54284\n",
      "Epoch 26/3000\n",
      "851/851 [==============================] - 3s 4ms/step - loss: 3.3317e-05 - accuracy: 1.0000 - val_loss: 1.0486 - val_accuracy: 0.6947\n",
      "\n",
      "Epoch 00026: val_loss did not improve from 0.54284\n",
      "Epoch 27/3000\n",
      "851/851 [==============================] - 4s 4ms/step - loss: 3.4043e-05 - accuracy: 1.0000 - val_loss: 1.0658 - val_accuracy: 0.6947\n",
      "\n",
      "Epoch 00027: val_loss did not improve from 0.54284\n",
      "Epoch 28/3000\n",
      "851/851 [==============================] - 3s 4ms/step - loss: 2.9400e-05 - accuracy: 1.0000 - val_loss: 1.0782 - val_accuracy: 0.6947\n",
      "\n",
      "Epoch 00028: val_loss did not improve from 0.54284\n",
      "Epoch 29/3000\n",
      "851/851 [==============================] - 3s 4ms/step - loss: 2.8551e-05 - accuracy: 1.0000 - val_loss: 1.1307 - val_accuracy: 0.6947\n",
      "\n",
      "Epoch 00029: val_loss did not improve from 0.54284\n",
      "Epoch 30/3000\n",
      "851/851 [==============================] - 3s 4ms/step - loss: 2.5010e-05 - accuracy: 1.0000 - val_loss: 1.1284 - val_accuracy: 0.7053\n",
      "\n",
      "Epoch 00030: val_loss did not improve from 0.54284\n",
      "Epoch 31/3000\n",
      "851/851 [==============================] - 3s 4ms/step - loss: 2.3206e-05 - accuracy: 1.0000 - val_loss: 1.1751 - val_accuracy: 0.6842\n",
      "\n",
      "Epoch 00031: val_loss did not improve from 0.54284\n",
      "Epoch 32/3000\n",
      "851/851 [==============================] - 3s 4ms/step - loss: 2.1366e-05 - accuracy: 1.0000 - val_loss: 1.1870 - val_accuracy: 0.6842\n",
      "\n",
      "Epoch 00032: val_loss did not improve from 0.54284\n",
      "Epoch 33/3000\n",
      "851/851 [==============================] - 3s 4ms/step - loss: 1.9240e-05 - accuracy: 1.0000 - val_loss: 1.1665 - val_accuracy: 0.7053\n",
      "\n",
      "Epoch 00033: val_loss did not improve from 0.54284\n",
      "Epoch 34/3000\n",
      "851/851 [==============================] - 3s 4ms/step - loss: 1.8120e-05 - accuracy: 1.0000 - val_loss: 1.2064 - val_accuracy: 0.6842\n",
      "\n",
      "Epoch 00034: val_loss did not improve from 0.54284\n",
      "Epoch 35/3000\n",
      "851/851 [==============================] - 3s 4ms/step - loss: 1.7082e-05 - accuracy: 1.0000 - val_loss: 1.2372 - val_accuracy: 0.6632\n",
      "\n",
      "Epoch 00035: val_loss did not improve from 0.54284\n",
      "Epoch 36/3000\n",
      "851/851 [==============================] - 3s 4ms/step - loss: 1.5971e-05 - accuracy: 1.0000 - val_loss: 1.2485 - val_accuracy: 0.6632\n",
      "\n",
      "Epoch 00036: val_loss did not improve from 0.54284\n",
      "Epoch 37/3000\n",
      "851/851 [==============================] - 3s 4ms/step - loss: 1.3249e-05 - accuracy: 1.0000 - val_loss: 1.2052 - val_accuracy: 0.7053\n",
      "\n",
      "Epoch 00037: val_loss did not improve from 0.54284\n",
      "Epoch 38/3000\n",
      "851/851 [==============================] - 3s 4ms/step - loss: 1.4072e-05 - accuracy: 1.0000 - val_loss: 1.2559 - val_accuracy: 0.6737\n",
      "\n",
      "Epoch 00038: val_loss did not improve from 0.54284\n",
      "Epoch 39/3000\n",
      "851/851 [==============================] - 3s 4ms/step - loss: 1.2891e-05 - accuracy: 1.0000 - val_loss: 1.2860 - val_accuracy: 0.6737\n",
      "\n",
      "Epoch 00039: val_loss did not improve from 0.54284\n",
      "Epoch 40/3000\n",
      "851/851 [==============================] - 3s 4ms/step - loss: 1.1127e-05 - accuracy: 1.0000 - val_loss: 1.2411 - val_accuracy: 0.6842\n",
      "\n",
      "Epoch 00040: val_loss did not improve from 0.54284\n",
      "Epoch 41/3000\n"
     ]
    },
    {
     "name": "stdout",
     "output_type": "stream",
     "text": [
      "851/851 [==============================] - 3s 4ms/step - loss: 1.1372e-05 - accuracy: 1.0000 - val_loss: 1.2970 - val_accuracy: 0.6737\n",
      "\n",
      "Epoch 00041: val_loss did not improve from 0.54284\n",
      "Epoch 42/3000\n",
      "851/851 [==============================] - 3s 4ms/step - loss: 1.0387e-05 - accuracy: 1.0000 - val_loss: 1.2589 - val_accuracy: 0.6842\n",
      "\n",
      "Epoch 00042: val_loss did not improve from 0.54284\n",
      "Epoch 43/3000\n",
      "851/851 [==============================] - 3s 4ms/step - loss: 1.0201e-05 - accuracy: 1.0000 - val_loss: 1.3294 - val_accuracy: 0.6632\n",
      "\n",
      "Epoch 00043: val_loss did not improve from 0.54284\n",
      "Epoch 44/3000\n",
      "851/851 [==============================] - 3s 4ms/step - loss: 9.0789e-06 - accuracy: 1.0000 - val_loss: 1.3566 - val_accuracy: 0.6632\n",
      "\n",
      "Epoch 00044: val_loss did not improve from 0.54284\n",
      "Epoch 45/3000\n",
      "851/851 [==============================] - 3s 4ms/step - loss: 7.7419e-06 - accuracy: 1.0000 - val_loss: 1.3044 - val_accuracy: 0.6842\n",
      "\n",
      "Epoch 00045: val_loss did not improve from 0.54284\n",
      "Epoch 46/3000\n",
      "851/851 [==============================] - 3s 4ms/step - loss: 8.3980e-06 - accuracy: 1.0000 - val_loss: 1.3606 - val_accuracy: 0.6737\n",
      "\n",
      "Epoch 00046: val_loss did not improve from 0.54284\n",
      "Epoch 47/3000\n",
      "851/851 [==============================] - 3s 4ms/step - loss: 7.7943e-06 - accuracy: 1.0000 - val_loss: 1.4011 - val_accuracy: 0.6632\n",
      "\n",
      "Epoch 00047: val_loss did not improve from 0.54284\n",
      "Epoch 48/3000\n",
      "851/851 [==============================] - 3s 4ms/step - loss: 7.1849e-06 - accuracy: 1.0000 - val_loss: 1.3823 - val_accuracy: 0.6737\n",
      "\n",
      "Epoch 00048: val_loss did not improve from 0.54284\n",
      "Epoch 49/3000\n",
      "851/851 [==============================] - 3s 4ms/step - loss: 6.9374e-06 - accuracy: 1.0000 - val_loss: 1.4568 - val_accuracy: 0.6632\n",
      "\n",
      "Epoch 00049: val_loss did not improve from 0.54284\n",
      "Epoch 50/3000\n",
      "851/851 [==============================] - 3s 4ms/step - loss: 5.7993e-06 - accuracy: 1.0000 - val_loss: 1.3837 - val_accuracy: 0.6842\n",
      "\n",
      "Epoch 00050: val_loss did not improve from 0.54284\n",
      "Epoch 51/3000\n",
      "851/851 [==============================] - 3s 4ms/step - loss: 6.0059e-06 - accuracy: 1.0000 - val_loss: 1.4813 - val_accuracy: 0.6632\n",
      "\n",
      "Epoch 00051: val_loss did not improve from 0.54284\n",
      "Epoch 52/3000\n",
      "851/851 [==============================] - 3s 4ms/step - loss: 5.8121e-06 - accuracy: 1.0000 - val_loss: 1.4104 - val_accuracy: 0.6737\n",
      "\n",
      "Epoch 00052: val_loss did not improve from 0.54284\n",
      "Epoch 53/3000\n",
      "851/851 [==============================] - 3s 4ms/step - loss: 4.9929e-06 - accuracy: 1.0000 - val_loss: 1.4239 - val_accuracy: 0.6632\n",
      "\n",
      "Epoch 00053: val_loss did not improve from 0.54284\n",
      "Epoch 54/3000\n",
      "851/851 [==============================] - 3s 4ms/step - loss: 5.3920e-06 - accuracy: 1.0000 - val_loss: 1.5084 - val_accuracy: 0.6526\n",
      "\n",
      "Epoch 00054: val_loss did not improve from 0.54284\n",
      "Epoch 55/3000\n",
      "851/851 [==============================] - 3s 4ms/step - loss: 4.3015e-06 - accuracy: 1.0000 - val_loss: 1.4457 - val_accuracy: 0.6632\n",
      "\n",
      "Epoch 00055: val_loss did not improve from 0.54284\n",
      "Epoch 56/3000\n",
      "851/851 [==============================] - 3s 4ms/step - loss: 4.6156e-06 - accuracy: 1.0000 - val_loss: 1.5098 - val_accuracy: 0.6526\n",
      "\n",
      "Epoch 00056: val_loss did not improve from 0.54284\n",
      "Epoch 57/3000\n",
      "851/851 [==============================] - 3s 4ms/step - loss: 4.2967e-06 - accuracy: 1.0000 - val_loss: 1.5030 - val_accuracy: 0.6632\n",
      "\n",
      "Epoch 00057: val_loss did not improve from 0.54284\n",
      "Epoch 58/3000\n",
      "851/851 [==============================] - 3s 4ms/step - loss: 3.7124e-06 - accuracy: 1.0000 - val_loss: 1.4745 - val_accuracy: 0.6632\n",
      "\n",
      "Epoch 00058: val_loss did not improve from 0.54284\n",
      "Epoch 59/3000\n",
      "851/851 [==============================] - 3s 4ms/step - loss: 3.9990e-06 - accuracy: 1.0000 - val_loss: 1.4934 - val_accuracy: 0.6632\n",
      "\n",
      "Epoch 00059: val_loss did not improve from 0.54284\n",
      "Epoch 60/3000\n",
      "851/851 [==============================] - 3s 4ms/step - loss: 3.8504e-06 - accuracy: 1.0000 - val_loss: 1.5380 - val_accuracy: 0.6632\n",
      "\n",
      "Epoch 00060: val_loss did not improve from 0.54284\n",
      "Epoch 61/3000\n",
      "851/851 [==============================] - 3s 4ms/step - loss: 3.5086e-06 - accuracy: 1.0000 - val_loss: 1.5621 - val_accuracy: 0.6632\n",
      "\n",
      "Epoch 00061: val_loss did not improve from 0.54284\n",
      "Epoch 62/3000\n",
      "851/851 [==============================] - 3s 4ms/step - loss: 3.2154e-06 - accuracy: 1.0000 - val_loss: 1.5677 - val_accuracy: 0.6632\n",
      "\n",
      "Epoch 00062: val_loss did not improve from 0.54284\n",
      "Epoch 63/3000\n",
      "851/851 [==============================] - 3s 4ms/step - loss: 3.0822e-06 - accuracy: 1.0000 - val_loss: 1.6325 - val_accuracy: 0.6421\n",
      "\n",
      "Epoch 00063: val_loss did not improve from 0.54284\n",
      "Epoch 64/3000\n",
      "851/851 [==============================] - 3s 4ms/step - loss: 2.8044e-06 - accuracy: 1.0000 - val_loss: 1.5859 - val_accuracy: 0.6632\n",
      "\n",
      "Epoch 00064: val_loss did not improve from 0.54284\n",
      "Epoch 65/3000\n",
      "851/851 [==============================] - 4s 4ms/step - loss: 2.8381e-06 - accuracy: 1.0000 - val_loss: 1.6533 - val_accuracy: 0.6421\n",
      "\n",
      "Epoch 00065: val_loss did not improve from 0.54284\n",
      "Epoch 66/3000\n",
      "851/851 [==============================] - 4s 4ms/step - loss: 2.8252e-06 - accuracy: 1.0000 - val_loss: 1.6772 - val_accuracy: 0.6421\n",
      "\n",
      "Epoch 00066: val_loss did not improve from 0.54284\n",
      "Epoch 67/3000\n",
      "851/851 [==============================] - 4s 4ms/step - loss: 2.5482e-06 - accuracy: 1.0000 - val_loss: 1.6885 - val_accuracy: 0.6421\n",
      "\n",
      "Epoch 00067: val_loss did not improve from 0.54284\n",
      "Epoch 68/3000\n",
      "851/851 [==============================] - 4s 4ms/step - loss: 2.4065e-06 - accuracy: 1.0000 - val_loss: 1.7010 - val_accuracy: 0.6421\n",
      "\n",
      "Epoch 00068: val_loss did not improve from 0.54284\n",
      "Epoch 69/3000\n",
      "851/851 [==============================] - 4s 4ms/step - loss: 2.2431e-06 - accuracy: 1.0000 - val_loss: 1.7175 - val_accuracy: 0.6421\n",
      "\n",
      "Epoch 00069: val_loss did not improve from 0.54284\n",
      "Epoch 70/3000\n",
      "851/851 [==============================] - 4s 4ms/step - loss: 2.1613e-06 - accuracy: 1.0000 - val_loss: 1.6919 - val_accuracy: 0.6421\n",
      "\n",
      "Epoch 00070: val_loss did not improve from 0.54284\n",
      "Epoch 71/3000\n",
      "851/851 [==============================] - 4s 5ms/step - loss: 2.0168e-06 - accuracy: 1.0000 - val_loss: 1.7198 - val_accuracy: 0.6421\n",
      "\n",
      "Epoch 00071: val_loss did not improve from 0.54284\n",
      "Epoch 72/3000\n",
      "851/851 [==============================] - 4s 4ms/step - loss: 1.9028e-06 - accuracy: 1.0000 - val_loss: 1.6963 - val_accuracy: 0.6526\n",
      "\n",
      "Epoch 00072: val_loss did not improve from 0.54284\n",
      "Epoch 73/3000\n",
      "851/851 [==============================] - 4s 5ms/step - loss: 1.6685e-06 - accuracy: 1.0000 - val_loss: 1.6741 - val_accuracy: 0.6632\n",
      "\n",
      "Epoch 00073: val_loss did not improve from 0.54284\n",
      "Epoch 74/3000\n",
      "851/851 [==============================] - 4s 4ms/step - loss: 1.7328e-06 - accuracy: 1.0000 - val_loss: 1.6785 - val_accuracy: 0.6632\n",
      "\n",
      "Epoch 00074: val_loss did not improve from 0.54284\n",
      "Epoch 75/3000\n",
      "851/851 [==============================] - 4s 5ms/step - loss: 1.7740e-06 - accuracy: 1.0000 - val_loss: 1.7056 - val_accuracy: 0.6632\n",
      "\n",
      "Epoch 00075: val_loss did not improve from 0.54284\n",
      "Epoch 76/3000\n",
      "851/851 [==============================] - 4s 4ms/step - loss: 1.7041e-06 - accuracy: 1.0000 - val_loss: 1.7565 - val_accuracy: 0.6526\n",
      "\n",
      "Epoch 00076: val_loss did not improve from 0.54284\n",
      "Epoch 77/3000\n",
      "851/851 [==============================] - 4s 4ms/step - loss: 1.3578e-06 - accuracy: 1.0000 - val_loss: 1.7151 - val_accuracy: 0.6632\n",
      "\n",
      "Epoch 00077: val_loss did not improve from 0.54284\n",
      "Epoch 78/3000\n",
      "851/851 [==============================] - 4s 4ms/step - loss: 1.6788e-06 - accuracy: 1.0000 - val_loss: 1.8412 - val_accuracy: 0.6421\n",
      "\n",
      "Epoch 00078: val_loss did not improve from 0.54284\n",
      "Epoch 79/3000\n",
      "851/851 [==============================] - 4s 4ms/step - loss: 1.3650e-06 - accuracy: 1.0000 - val_loss: 1.8304 - val_accuracy: 0.6421\n",
      "\n",
      "Epoch 00079: val_loss did not improve from 0.54284\n",
      "Epoch 80/3000\n",
      "851/851 [==============================] - 4s 4ms/step - loss: 1.3169e-06 - accuracy: 1.0000 - val_loss: 1.8360 - val_accuracy: 0.6421\n",
      "\n",
      "Epoch 00080: val_loss did not improve from 0.54284\n",
      "Epoch 81/3000\n",
      "851/851 [==============================] - 4s 4ms/step - loss: 1.2408e-06 - accuracy: 1.0000 - val_loss: 1.8544 - val_accuracy: 0.6421\n",
      "\n",
      "Epoch 00081: val_loss did not improve from 0.54284\n",
      "Epoch 82/3000\n"
     ]
    },
    {
     "name": "stdout",
     "output_type": "stream",
     "text": [
      "851/851 [==============================] - 4s 4ms/step - loss: 1.1624e-06 - accuracy: 1.0000 - val_loss: 1.8341 - val_accuracy: 0.6526\n",
      "\n",
      "Epoch 00082: val_loss did not improve from 0.54284\n",
      "Epoch 83/3000\n",
      "851/851 [==============================] - 4s 5ms/step - loss: 1.1509e-06 - accuracy: 1.0000 - val_loss: 1.8156 - val_accuracy: 0.6526\n",
      "\n",
      "Epoch 00083: val_loss did not improve from 0.54284\n",
      "Epoch 84/3000\n",
      "851/851 [==============================] - 4s 4ms/step - loss: 1.1437e-06 - accuracy: 1.0000 - val_loss: 1.9511 - val_accuracy: 0.6421\n",
      "\n",
      "Epoch 00084: val_loss did not improve from 0.54284\n",
      "Epoch 85/3000\n",
      "851/851 [==============================] - 4s 4ms/step - loss: 1.0240e-06 - accuracy: 1.0000 - val_loss: 1.8834 - val_accuracy: 0.6421\n",
      "\n",
      "Epoch 00085: val_loss did not improve from 0.54284\n",
      "Epoch 86/3000\n",
      "851/851 [==============================] - 4s 4ms/step - loss: 9.7997e-07 - accuracy: 1.0000 - val_loss: 1.9593 - val_accuracy: 0.6421\n",
      "\n",
      "Epoch 00086: val_loss did not improve from 0.54284\n",
      "Epoch 87/3000\n",
      "851/851 [==============================] - 4s 4ms/step - loss: 8.9538e-07 - accuracy: 1.0000 - val_loss: 1.8719 - val_accuracy: 0.6526\n",
      "\n",
      "Epoch 00087: val_loss did not improve from 0.54284\n",
      "Epoch 88/3000\n",
      "851/851 [==============================] - 4s 4ms/step - loss: 9.0840e-07 - accuracy: 1.0000 - val_loss: 1.9299 - val_accuracy: 0.6421\n",
      "\n",
      "Epoch 00088: val_loss did not improve from 0.54284\n",
      "Epoch 89/3000\n",
      "851/851 [==============================] - 4s 4ms/step - loss: 9.1259e-07 - accuracy: 1.0000 - val_loss: 2.0032 - val_accuracy: 0.6421\n",
      "\n",
      "Epoch 00089: val_loss did not improve from 0.54284\n",
      "Epoch 90/3000\n",
      "851/851 [==============================] - 4s 4ms/step - loss: 8.1582e-07 - accuracy: 1.0000 - val_loss: 1.9238 - val_accuracy: 0.6526\n",
      "\n",
      "Epoch 00090: val_loss did not improve from 0.54284\n",
      "Epoch 91/3000\n",
      "851/851 [==============================] - 4s 4ms/step - loss: 7.5192e-07 - accuracy: 1.0000 - val_loss: 1.9248 - val_accuracy: 0.6526\n",
      "\n",
      "Epoch 00091: val_loss did not improve from 0.54284\n",
      "Epoch 92/3000\n",
      "851/851 [==============================] - 4s 4ms/step - loss: 7.7407e-07 - accuracy: 1.0000 - val_loss: 1.9803 - val_accuracy: 0.6421\n",
      "\n",
      "Epoch 00092: val_loss did not improve from 0.54284\n",
      "Epoch 93/3000\n",
      "851/851 [==============================] - 4s 4ms/step - loss: 6.1565e-07 - accuracy: 1.0000 - val_loss: 1.9076 - val_accuracy: 0.6526\n",
      "\n",
      "Epoch 00093: val_loss did not improve from 0.54284\n",
      "Epoch 94/3000\n",
      "851/851 [==============================] - 4s 5ms/step - loss: 7.3792e-07 - accuracy: 1.0000 - val_loss: 1.9580 - val_accuracy: 0.6526\n",
      "\n",
      "Epoch 00094: val_loss did not improve from 0.54284\n",
      "Epoch 95/3000\n",
      "851/851 [==============================] - 4s 5ms/step - loss: 6.9254e-07 - accuracy: 1.0000 - val_loss: 2.0133 - val_accuracy: 0.6421\n",
      "\n",
      "Epoch 00095: val_loss did not improve from 0.54284\n",
      "Epoch 96/3000\n",
      "851/851 [==============================] - 4s 5ms/step - loss: 6.0457e-07 - accuracy: 1.0000 - val_loss: 2.0395 - val_accuracy: 0.6421\n",
      "\n",
      "Epoch 00096: val_loss did not improve from 0.54284\n",
      "Epoch 97/3000\n",
      "851/851 [==============================] - 4s 5ms/step - loss: 5.2782e-07 - accuracy: 1.0000 - val_loss: 1.9402 - val_accuracy: 0.6526\n",
      "\n",
      "Epoch 00097: val_loss did not improve from 0.54284\n",
      "Epoch 98/3000\n",
      "851/851 [==============================] - 4s 5ms/step - loss: 5.8497e-07 - accuracy: 1.0000 - val_loss: 1.9592 - val_accuracy: 0.6526\n",
      "\n",
      "Epoch 00098: val_loss did not improve from 0.54284\n",
      "Epoch 99/3000\n",
      "851/851 [==============================] - 4s 5ms/step - loss: 5.8608e-07 - accuracy: 1.0000 - val_loss: 2.0327 - val_accuracy: 0.6526\n",
      "\n",
      "Epoch 00099: val_loss did not improve from 0.54284\n",
      "Epoch 100/3000\n",
      "851/851 [==============================] - 4s 5ms/step - loss: 4.8103e-07 - accuracy: 1.0000 - val_loss: 2.0234 - val_accuracy: 0.6526\n",
      "\n",
      "Epoch 00100: val_loss did not improve from 0.54284\n",
      "Epoch 101/3000\n",
      "851/851 [==============================] - 4s 4ms/step - loss: 5.0807e-07 - accuracy: 1.0000 - val_loss: 2.0385 - val_accuracy: 0.6526\n",
      "\n",
      "Epoch 00101: val_loss did not improve from 0.54284\n",
      "Epoch 102/3000\n",
      "851/851 [==============================] - 4s 4ms/step - loss: 4.4167e-07 - accuracy: 1.0000 - val_loss: 2.0436 - val_accuracy: 0.6526\n",
      "\n",
      "Epoch 00102: val_loss did not improve from 0.54284\n"
     ]
    }
   ],
   "source": [
    "hist3 = model3.fit(X_train, y_train, epochs=3000, batch_size=10, validation_split=0.1, callbacks=[checkpointer,early_stopping_callback])"
   ]
  },
  {
   "cell_type": "code",
   "execution_count": 26,
   "metadata": {},
   "outputs": [
    {
     "data": {
      "image/png": "[encoded data removed]",
      "text/plain": [
       "<Figure size 360x288 with 1 Axes>"
      ]
     },
     "metadata": {
      "needs_background": "light"
     },
     "output_type": "display_data"
    }
   ],
   "source": [
    "import matplotlib.pyplot as plt\n",
    "#import matplotlib.font_manager as fm\n",
    "#fm.get_fontconfig_fonts()\n",
    "#font_path=\"D:\\\\ai\\\\기말대체\\\\NanumFontSetup_TTF_GOTHIC\\\\NanumGothic.ttf\"\n",
    "#font_name = fm.FontProperties(fname=font_path).get_name()\n",
    "#plt.rc('font', family=font_name, size=12) \n",
    "plt.figure(figsize=(5,4))\n",
    "plt.title('Comparison of error rate and accuracy between training and testing datasets(model3)', fontsize=14)\n",
    "\n",
    "plt.plot(hist3.history['loss'])      # 학습 데이터셋의 loss   -> loss \n",
    "plt.plot(hist3.history['val_loss'])  # 테스트 데이터셋의 loss -> val_loss\n",
    "\n",
    "plt.plot(hist3.history['accuracy'])      # 학습 데이터셋의 accuracy    -> accuracy \n",
    "plt.plot(hist3.history['val_accuracy'])  # 테스트 데이터셋의 accuracy  -> val_accuracy \n",
    "\n",
    "plt.legend(['loss','val_loss','accuracy', 'val_accuracy' ])     # 범례\n",
    "plt.grid()\n",
    "plt.show()"
   ]
  },
  {
   "cell_type": "code",
   "execution_count": 27,
   "metadata": {},
   "outputs": [],
   "source": [
    "model3.save('model3.h5')  "
   ]
  },
  {
   "cell_type": "code",
   "execution_count": null,
   "metadata": {},
   "outputs": [],
   "source": []
  }
 ],
 "metadata": {
  "kernelspec": {
   "display_name": "Python 3",
   "language": "python",
   "name": "python3"
  },
  "language_info": {
   "codemirror_mode": {
    "name": "ipython",
    "version": 3
   },
   "file_extension": ".py",
   "mimetype": "text/x-python",
   "name": "python",
   "nbconvert_exporter": "python",
   "pygments_lexer": "ipython3",
   "version": "3.7.9"
  }
 },
 "nbformat": 4,
 "nbformat_minor": 4
}
