{
 "cells": [
  {
   "cell_type": "markdown",
   "metadata": {},
   "source": [
    "데이터 전처리"
   ]
  },
  {
   "cell_type": "code",
   "execution_count": 18,
   "metadata": {},
   "outputs": [],
   "source": [
    "import pandas as pd\n",
    "import matplotlib.pyplot as plt\n",
    "import konlpy\n",
    "from konlpy.tag import Okt\n",
    "import numpy as np"
   ]
  },
  {
   "cell_type": "code",
   "execution_count": 2,
   "metadata": {},
   "outputs": [],
   "source": [
    "train_data=pd.read_csv('D:\\\\ai\\\\기말대체\\\\Data set_1.csv')\n",
    "test_data=pd.read_csv('D:\\\\ai\\\\기말대체\\\\Data set_2.csv')"
   ]
  },
  {
   "cell_type": "code",
   "execution_count": 4,
   "metadata": {},
   "outputs": [],
   "source": [
    "stopwords=['로','에','등','으로','및','과','되며','한']"
   ]
  },
  {
   "cell_type": "code",
   "execution_count": 5,
   "metadata": {},
   "outputs": [],
   "source": [
    "okt=Okt()\n",
    "X_train=[]\n",
    "for sentence in train_data['title']:\n",
    "    temp_X=[]\n",
    "    temp_X=okt.morphs(sentence,stem=True)\n",
    "    temp_X=[word for word in temp_X if not word in stopwords]\n",
    "    X_train.append(temp_X)\n",
    "X_test=[]\n",
    "for sentence in test_data['title']:\n",
    "    temp_X=[]\n",
    "    temp_X=okt.morphs(sentence,stem=True)\n",
    "    temp_X=[word for word in temp_X if not word in stopwords]\n",
    "    X_test.append(temp_X)"
   ]
  },
  {
   "cell_type": "code",
   "execution_count": 6,
   "metadata": {},
   "outputs": [
    {
     "name": "stdout",
     "output_type": "stream",
     "text": [
      "[['CMG', '제약', '외국인', '12만', '9000', '주', '순', '매수', '주가', '058'], ['CMG', '제약', '외국인', '8만', '6000', '주', '순', '매수', '주가', '246'], ['CMG', '제약', '검색', '상위', '랭킹', '주가', '159']]\n"
     ]
    }
   ],
   "source": [
    "print(X_train[:3])"
   ]
  },
  {
   "cell_type": "code",
   "execution_count": 7,
   "metadata": {},
   "outputs": [
    {
     "name": "stdout",
     "output_type": "stream",
     "text": [
      "[['fnRASSI', '씨', '케이', '에이치', '900120', '1185', '상승'], ['fnRASSI', '씨', '케이', '에이치', '900120', '899', '상승'], ['코스닥', '人', '씨', '케이', '에이치', '화장품', '·', '건기', '식', '사업', '두', '마리', '토끼', '잡다']]\n"
     ]
    }
   ],
   "source": [
    "print(X_test[:3])"
   ]
  },
  {
   "cell_type": "markdown",
   "metadata": {},
   "source": [
    "토큰화한 단어를 정수인코딩"
   ]
  },
  {
   "cell_type": "code",
   "execution_count": 10,
   "metadata": {},
   "outputs": [
    {
     "name": "stderr",
     "output_type": "stream",
     "text": [
      "Using TensorFlow backend.\n"
     ]
    }
   ],
   "source": [
    "from keras.preprocessing.text import Tokenizer\n",
    "max_words=35000\n",
    "tokenizer=Tokenizer(num_words=max_words)\n",
    "tokenizer.fit_on_texts(X_train)\n",
    "X_train=tokenizer.texts_to_sequences(X_train)\n",
    "X_test=tokenizer.texts_to_sequences(X_test)"
   ]
  },
  {
   "cell_type": "code",
   "execution_count": 11,
   "metadata": {},
   "outputs": [
    {
     "name": "stdout",
     "output_type": "stream",
     "text": [
      "[[105, 70, 22, 858, 583, 8, 18, 20, 4, 859], [105, 70, 22, 860, 584, 8, 18, 20, 4, 585], [105, 70, 44, 50, 51, 4, 445]]\n"
     ]
    }
   ],
   "source": [
    "print(X_train[:3])"
   ]
  },
  {
   "cell_type": "code",
   "execution_count": 12,
   "metadata": {},
   "outputs": [
    {
     "name": "stdout",
     "output_type": "stream",
     "text": [
      "[[12, 66, 180, 202, 1897, 1], [12, 66, 180, 202, 1897, 1], [35, 66, 180, 202, 763, 5, 662, 65, 1292]]\n"
     ]
    }
   ],
   "source": [
    "print(X_test[:3])"
   ]
  },
  {
   "cell_type": "markdown",
   "metadata": {},
   "source": [
    "label data -1,0,1에 대해서 one hot encoding"
   ]
  },
  {
   "cell_type": "code",
   "execution_count": 15,
   "metadata": {},
   "outputs": [],
   "source": [
    "y_train=[]\n",
    "y_test=[]\n",
    "\n",
    "for i in range(len(train_data['label'])):\n",
    "    if train_data['label'].iloc[i]==1:\n",
    "        y_train.append([0,0,1])\n",
    "    elif train_data['label'].iloc[i]==0:\n",
    "        y_train.append([0,1,0])\n",
    "    elif train_data['label'].iloc[i]==-1:\n",
    "        y_train.append([1,0,0])\n",
    "\n",
    "for i in range(len(test_data['label'])):\n",
    "    if test_data['label'].iloc[i]==1:\n",
    "        y_test.append([0,0,1])\n",
    "    elif test_data['label'].iloc[i]==0:\n",
    "        y_test.append([0,1,0])\n",
    "    elif test_data['label'].iloc[i]==-1:\n",
    "        y_test.append([1,0,0])\n",
    "        \n",
    "y_train=np.array(y_train)\n",
    "y_test=np.array(y_test)"
   ]
  },
  {
   "cell_type": "code",
   "execution_count": 16,
   "metadata": {},
   "outputs": [
    {
     "data": {
      "text/plain": [
       "array([[0, 0, 1],\n",
       "       [0, 0, 1],\n",
       "       [0, 1, 0],\n",
       "       ...,\n",
       "       [0, 1, 0],\n",
       "       [0, 1, 0],\n",
       "       [0, 1, 0]])"
      ]
     },
     "execution_count": 16,
     "metadata": {},
     "output_type": "execute_result"
    }
   ],
   "source": [
    "y_train"
   ]
  },
  {
   "cell_type": "code",
   "execution_count": 17,
   "metadata": {},
   "outputs": [
    {
     "data": {
      "text/plain": [
       "array([[0, 0, 1],\n",
       "       [0, 0, 1],\n",
       "       [0, 1, 0],\n",
       "       ...,\n",
       "       [0, 0, 1],\n",
       "       [0, 0, 1],\n",
       "       [0, 1, 0]])"
      ]
     },
     "execution_count": 17,
     "metadata": {},
     "output_type": "execute_result"
    }
   ],
   "source": [
    "y_test"
   ]
  },
  {
   "cell_type": "markdown",
   "metadata": {},
   "source": [
    "딥러닝"
   ]
  },
  {
   "cell_type": "code",
   "execution_count": 19,
   "metadata": {},
   "outputs": [],
   "source": [
    "from keras.layers import Dense, LSTM, Embedding\n",
    "from keras.models import Sequential\n",
    "from keras.preprocessing.sequence import pad_sequences\n",
    "import tensorflow as tf\n",
    "\n",
    "np.random.seed(3)\n",
    "tf.random.set_seed(3)\n",
    "\n",
    "max_len=20\n",
    "X_train=pad_sequences(X_train, maxlen=max_len)\n",
    "X_test=pad_sequences(X_test,maxlen=max_len)"
   ]
  },
  {
   "cell_type": "code",
   "execution_count": 20,
   "metadata": {},
   "outputs": [],
   "source": [
    "model = Sequential()\n",
    "model.add(Embedding(max_words,100))\n",
    "model.add(LSTM(128)) #layer에 포함되는 unit개수가 128개일때 대체로 괜찮은가보다\n",
    "model.add(Dense(3, activation='softmax'))  # 활성화 함수 softmax 사용\n",
    "\n",
    "model.compile(loss='categorical_crossentropy', optimizer='adam', metrics=['accuracy'])"
   ]
  },
  {
   "cell_type": "code",
   "execution_count": 21,
   "metadata": {},
   "outputs": [
    {
     "name": "stderr",
     "output_type": "stream",
     "text": [
      "C:\\Users\\Administrator\\.conda\\envs\\ai\\lib\\site-packages\\tensorflow_core\\python\\framework\\indexed_slices.py:424: UserWarning: Converting sparse IndexedSlices to a dense Tensor of unknown shape. This may consume a large amount of memory.\n",
      "  \"Converting sparse IndexedSlices to a dense Tensor of unknown shape. \"\n"
     ]
    },
    {
     "name": "stdout",
     "output_type": "stream",
     "text": [
      "Train on 946 samples, validate on 949 samples\n",
      "Epoch 1/100\n",
      " - 2s - loss: 0.8868 - accuracy: 0.6205 - val_loss: 0.6110 - val_accuracy: 0.7113\n",
      "Epoch 2/100\n",
      " - 2s - loss: 0.4716 - accuracy: 0.8182 - val_loss: 0.3931 - val_accuracy: 0.8335\n",
      "Epoch 3/100\n",
      " - 2s - loss: 0.2325 - accuracy: 0.9186 - val_loss: 0.2972 - val_accuracy: 0.8851\n",
      "Epoch 4/100\n",
      " - 2s - loss: 0.0999 - accuracy: 0.9641 - val_loss: 0.3483 - val_accuracy: 0.8894\n",
      "Epoch 5/100\n",
      " - 2s - loss: 0.0388 - accuracy: 0.9937 - val_loss: 0.7937 - val_accuracy: 0.8440\n",
      "Epoch 6/100\n",
      " - 2s - loss: 0.0565 - accuracy: 0.9926 - val_loss: 0.3102 - val_accuracy: 0.8988\n",
      "Epoch 7/100\n",
      " - 2s - loss: 0.0192 - accuracy: 0.9968 - val_loss: 0.3091 - val_accuracy: 0.9041\n",
      "Epoch 8/100\n",
      " - 2s - loss: 0.0050 - accuracy: 0.9989 - val_loss: 0.3308 - val_accuracy: 0.9009\n",
      "Epoch 9/100\n",
      " - 2s - loss: 0.0024 - accuracy: 1.0000 - val_loss: 0.4181 - val_accuracy: 0.8894\n",
      "Epoch 10/100\n",
      " - 2s - loss: 0.0019 - accuracy: 1.0000 - val_loss: 0.3811 - val_accuracy: 0.8988\n",
      "Epoch 11/100\n",
      " - 2s - loss: 0.0011 - accuracy: 1.0000 - val_loss: 0.4002 - val_accuracy: 0.8957\n",
      "Epoch 12/100\n",
      " - 2s - loss: 9.3405e-04 - accuracy: 1.0000 - val_loss: 0.4063 - val_accuracy: 0.8999\n",
      "Epoch 13/100\n",
      " - 2s - loss: 0.0012 - accuracy: 1.0000 - val_loss: 0.4543 - val_accuracy: 0.8872\n",
      "Epoch 14/100\n",
      " - 2s - loss: 6.0089e-04 - accuracy: 1.0000 - val_loss: 0.4272 - val_accuracy: 0.9031\n",
      "Epoch 15/100\n",
      " - 2s - loss: 3.9321e-04 - accuracy: 1.0000 - val_loss: 0.4533 - val_accuracy: 0.8957\n",
      "Epoch 16/100\n",
      " - 2s - loss: 2.8759e-04 - accuracy: 1.0000 - val_loss: 0.4837 - val_accuracy: 0.8925\n",
      "Epoch 17/100\n",
      " - 2s - loss: 2.4674e-04 - accuracy: 1.0000 - val_loss: 0.5041 - val_accuracy: 0.8841\n",
      "Epoch 18/100\n",
      " - 2s - loss: 2.1236e-04 - accuracy: 1.0000 - val_loss: 0.5138 - val_accuracy: 0.8894\n",
      "Epoch 19/100\n",
      " - 2s - loss: 1.8186e-04 - accuracy: 1.0000 - val_loss: 0.5309 - val_accuracy: 0.8872\n",
      "Epoch 20/100\n",
      " - 2s - loss: 1.4508e-04 - accuracy: 1.0000 - val_loss: 0.5479 - val_accuracy: 0.8946\n",
      "Epoch 21/100\n",
      " - 2s - loss: 1.5127e-04 - accuracy: 1.0000 - val_loss: 0.5512 - val_accuracy: 0.8851\n",
      "Epoch 22/100\n",
      " - 2s - loss: 1.3374e-04 - accuracy: 1.0000 - val_loss: 0.5585 - val_accuracy: 0.8862\n",
      "Epoch 23/100\n",
      " - 2s - loss: 1.1136e-04 - accuracy: 1.0000 - val_loss: 0.5690 - val_accuracy: 0.8851\n",
      "Epoch 24/100\n",
      " - 2s - loss: 1.0418e-04 - accuracy: 1.0000 - val_loss: 0.5824 - val_accuracy: 0.8841\n",
      "Epoch 25/100\n",
      " - 2s - loss: 8.7895e-05 - accuracy: 1.0000 - val_loss: 0.5813 - val_accuracy: 0.8925\n",
      "Epoch 26/100\n",
      " - 2s - loss: 9.0872e-05 - accuracy: 1.0000 - val_loss: 0.5948 - val_accuracy: 0.8851\n",
      "Epoch 27/100\n",
      " - 2s - loss: 8.0333e-05 - accuracy: 1.0000 - val_loss: 0.6047 - val_accuracy: 0.8841\n",
      "Epoch 28/100\n",
      " - 2s - loss: 7.4621e-05 - accuracy: 1.0000 - val_loss: 0.6052 - val_accuracy: 0.8915\n",
      "Epoch 29/100\n",
      " - 2s - loss: 7.3514e-05 - accuracy: 1.0000 - val_loss: 0.6114 - val_accuracy: 0.8851\n",
      "Epoch 30/100\n",
      " - 2s - loss: 6.5880e-05 - accuracy: 1.0000 - val_loss: 0.6150 - val_accuracy: 0.8851\n",
      "Epoch 31/100\n",
      " - 2s - loss: 6.3158e-05 - accuracy: 1.0000 - val_loss: 0.6229 - val_accuracy: 0.8841\n",
      "Epoch 32/100\n",
      " - 2s - loss: 5.4343e-05 - accuracy: 1.0000 - val_loss: 0.6240 - val_accuracy: 0.8904\n",
      "Epoch 33/100\n",
      " - 2s - loss: 5.4766e-05 - accuracy: 1.0000 - val_loss: 0.6339 - val_accuracy: 0.8841\n",
      "Epoch 34/100\n",
      " - 2s - loss: 4.9953e-05 - accuracy: 1.0000 - val_loss: 0.6399 - val_accuracy: 0.8851\n",
      "Epoch 35/100\n",
      " - 2s - loss: 5.0308e-05 - accuracy: 1.0000 - val_loss: 0.6422 - val_accuracy: 0.8841\n",
      "Epoch 36/100\n",
      " - 2s - loss: 4.4559e-05 - accuracy: 1.0000 - val_loss: 0.6471 - val_accuracy: 0.8830\n",
      "Epoch 37/100\n",
      " - 2s - loss: 4.4881e-05 - accuracy: 1.0000 - val_loss: 0.6518 - val_accuracy: 0.8883\n",
      "Epoch 38/100\n",
      " - 2s - loss: 3.9260e-05 - accuracy: 1.0000 - val_loss: 0.6561 - val_accuracy: 0.8809\n",
      "Epoch 39/100\n",
      " - 2s - loss: 3.9496e-05 - accuracy: 1.0000 - val_loss: 0.6616 - val_accuracy: 0.8841\n",
      "Epoch 40/100\n",
      " - 2s - loss: 3.9409e-05 - accuracy: 1.0000 - val_loss: 0.6647 - val_accuracy: 0.8809\n",
      "Epoch 41/100\n",
      " - 2s - loss: 4.0211e-05 - accuracy: 1.0000 - val_loss: 0.6659 - val_accuracy: 0.8809\n",
      "Epoch 42/100\n",
      " - 2s - loss: 3.5437e-05 - accuracy: 1.0000 - val_loss: 0.6703 - val_accuracy: 0.8851\n",
      "Epoch 43/100\n",
      " - 2s - loss: 3.5443e-05 - accuracy: 1.0000 - val_loss: 0.6776 - val_accuracy: 0.8851\n",
      "Epoch 44/100\n",
      " - 2s - loss: 3.0166e-05 - accuracy: 1.0000 - val_loss: 0.6776 - val_accuracy: 0.8809\n",
      "Epoch 45/100\n",
      " - 2s - loss: 3.1896e-05 - accuracy: 1.0000 - val_loss: 0.6849 - val_accuracy: 0.8841\n",
      "Epoch 46/100\n",
      " - 2s - loss: 2.8542e-05 - accuracy: 1.0000 - val_loss: 0.6838 - val_accuracy: 0.8820\n",
      "Epoch 47/100\n",
      " - 2s - loss: 2.6155e-05 - accuracy: 1.0000 - val_loss: 0.6904 - val_accuracy: 0.8820\n",
      "Epoch 48/100\n",
      " - 2s - loss: 2.5599e-05 - accuracy: 1.0000 - val_loss: 0.6932 - val_accuracy: 0.8820\n",
      "Epoch 49/100\n",
      " - 2s - loss: 2.5049e-05 - accuracy: 1.0000 - val_loss: 0.6969 - val_accuracy: 0.8820\n",
      "Epoch 50/100\n",
      " - 2s - loss: 2.4536e-05 - accuracy: 1.0000 - val_loss: 0.7087 - val_accuracy: 0.8820\n",
      "Epoch 51/100\n",
      " - 2s - loss: 2.3237e-05 - accuracy: 1.0000 - val_loss: 0.7026 - val_accuracy: 0.8820\n",
      "Epoch 52/100\n",
      " - 2s - loss: 2.1453e-05 - accuracy: 1.0000 - val_loss: 0.7129 - val_accuracy: 0.8820\n",
      "Epoch 53/100\n",
      " - 2s - loss: 2.1349e-05 - accuracy: 1.0000 - val_loss: 0.7106 - val_accuracy: 0.8851\n",
      "Epoch 54/100\n",
      " - 2s - loss: 2.1463e-05 - accuracy: 1.0000 - val_loss: 0.7179 - val_accuracy: 0.8809\n",
      "Epoch 55/100\n",
      " - 2s - loss: 2.0263e-05 - accuracy: 1.0000 - val_loss: 0.7153 - val_accuracy: 0.8809\n",
      "Epoch 56/100\n",
      " - 2s - loss: 1.9272e-05 - accuracy: 1.0000 - val_loss: 0.7216 - val_accuracy: 0.8820\n",
      "Epoch 57/100\n",
      " - 2s - loss: 1.8163e-05 - accuracy: 1.0000 - val_loss: 0.7278 - val_accuracy: 0.8820\n",
      "Epoch 58/100\n",
      " - 2s - loss: 1.9630e-05 - accuracy: 1.0000 - val_loss: 0.7256 - val_accuracy: 0.8809\n",
      "Epoch 59/100\n",
      " - 2s - loss: 1.8276e-05 - accuracy: 1.0000 - val_loss: 0.7244 - val_accuracy: 0.8883\n",
      "Epoch 60/100\n",
      " - 2s - loss: 1.6355e-05 - accuracy: 1.0000 - val_loss: 0.7377 - val_accuracy: 0.8799\n",
      "Epoch 61/100\n",
      " - 2s - loss: 1.5903e-05 - accuracy: 1.0000 - val_loss: 0.7368 - val_accuracy: 0.8788\n",
      "Epoch 62/100\n",
      " - 2s - loss: 1.6414e-05 - accuracy: 1.0000 - val_loss: 0.7395 - val_accuracy: 0.8788\n",
      "Epoch 63/100\n",
      " - 2s - loss: 1.6487e-05 - accuracy: 1.0000 - val_loss: 0.7427 - val_accuracy: 0.8788\n",
      "Epoch 64/100\n",
      " - 2s - loss: 1.5434e-05 - accuracy: 1.0000 - val_loss: 0.7412 - val_accuracy: 0.8809\n",
      "Epoch 65/100\n",
      " - 2s - loss: 1.3834e-05 - accuracy: 1.0000 - val_loss: 0.7485 - val_accuracy: 0.8788\n",
      "Epoch 66/100\n",
      " - 2s - loss: 1.4219e-05 - accuracy: 1.0000 - val_loss: 0.7484 - val_accuracy: 0.8799\n",
      "Epoch 67/100\n",
      " - 2s - loss: 1.3816e-05 - accuracy: 1.0000 - val_loss: 0.7509 - val_accuracy: 0.8809\n",
      "Epoch 68/100\n",
      " - 2s - loss: 1.4012e-05 - accuracy: 1.0000 - val_loss: 0.7566 - val_accuracy: 0.8788\n",
      "Epoch 69/100\n",
      " - 2s - loss: 1.2669e-05 - accuracy: 1.0000 - val_loss: 0.7586 - val_accuracy: 0.8799\n",
      "Epoch 70/100\n",
      " - 2s - loss: 1.2757e-05 - accuracy: 1.0000 - val_loss: 0.7585 - val_accuracy: 0.8809\n",
      "Epoch 71/100\n",
      " - 2s - loss: 1.1570e-05 - accuracy: 1.0000 - val_loss: 0.7656 - val_accuracy: 0.8788\n",
      "Epoch 72/100\n",
      " - 2s - loss: 1.1531e-05 - accuracy: 1.0000 - val_loss: 0.7709 - val_accuracy: 0.8778\n",
      "Epoch 73/100\n",
      " - 2s - loss: 1.1410e-05 - accuracy: 1.0000 - val_loss: 0.7726 - val_accuracy: 0.8788\n",
      "Epoch 74/100\n",
      " - 2s - loss: 1.1454e-05 - accuracy: 1.0000 - val_loss: 0.7675 - val_accuracy: 0.8883\n",
      "Epoch 75/100\n",
      " - 2s - loss: 1.0460e-05 - accuracy: 1.0000 - val_loss: 0.7837 - val_accuracy: 0.8788\n",
      "Epoch 76/100\n",
      " - 2s - loss: 1.0762e-05 - accuracy: 1.0000 - val_loss: 0.7734 - val_accuracy: 0.8820\n",
      "Epoch 77/100\n",
      " - 2s - loss: 1.0526e-05 - accuracy: 1.0000 - val_loss: 0.7783 - val_accuracy: 0.8820\n",
      "Epoch 78/100\n",
      " - 2s - loss: 1.0444e-05 - accuracy: 1.0000 - val_loss: 0.7851 - val_accuracy: 0.8778\n",
      "Epoch 79/100\n",
      " - 2s - loss: 1.0610e-05 - accuracy: 1.0000 - val_loss: 0.7815 - val_accuracy: 0.8820\n",
      "Epoch 80/100\n",
      " - 2s - loss: 9.4642e-06 - accuracy: 1.0000 - val_loss: 0.7848 - val_accuracy: 0.8820\n",
      "Epoch 81/100\n",
      " - 2s - loss: 8.9252e-06 - accuracy: 1.0000 - val_loss: 0.7949 - val_accuracy: 0.8778\n",
      "Epoch 82/100\n",
      " - 2s - loss: 9.1596e-06 - accuracy: 1.0000 - val_loss: 0.7928 - val_accuracy: 0.8820\n",
      "Epoch 83/100\n",
      " - 2s - loss: 8.3411e-06 - accuracy: 1.0000 - val_loss: 0.7919 - val_accuracy: 0.8799\n"
     ]
    },
    {
     "name": "stdout",
     "output_type": "stream",
     "text": [
      "Epoch 84/100\n",
      " - 2s - loss: 8.6127e-06 - accuracy: 1.0000 - val_loss: 0.7910 - val_accuracy: 0.8820\n",
      "Epoch 85/100\n",
      " - 2s - loss: 8.6574e-06 - accuracy: 1.0000 - val_loss: 0.7985 - val_accuracy: 0.8809\n",
      "Epoch 86/100\n",
      " - 2s - loss: 7.7815e-06 - accuracy: 1.0000 - val_loss: 0.8085 - val_accuracy: 0.8778\n",
      "Epoch 87/100\n",
      " - 2s - loss: 7.9807e-06 - accuracy: 1.0000 - val_loss: 0.8078 - val_accuracy: 0.8809\n",
      "Epoch 88/100\n",
      " - 2s - loss: 7.6403e-06 - accuracy: 1.0000 - val_loss: 0.7932 - val_accuracy: 0.8851\n",
      "Epoch 89/100\n",
      " - 2s - loss: 9.0309e-06 - accuracy: 1.0000 - val_loss: 0.8081 - val_accuracy: 0.8809\n",
      "Epoch 90/100\n",
      " - 2s - loss: 7.1442e-06 - accuracy: 1.0000 - val_loss: 0.8052 - val_accuracy: 0.8799\n",
      "Epoch 91/100\n",
      " - 2s - loss: 6.7127e-06 - accuracy: 1.0000 - val_loss: 0.8099 - val_accuracy: 0.8809\n",
      "Epoch 92/100\n",
      " - 2s - loss: 8.1093e-06 - accuracy: 1.0000 - val_loss: 0.8038 - val_accuracy: 0.8809\n",
      "Epoch 93/100\n",
      " - 2s - loss: 7.4478e-06 - accuracy: 1.0000 - val_loss: 0.8099 - val_accuracy: 0.8809\n",
      "Epoch 94/100\n",
      " - 2s - loss: 6.9485e-06 - accuracy: 1.0000 - val_loss: 0.8114 - val_accuracy: 0.8809\n",
      "Epoch 95/100\n",
      " - 2s - loss: 6.6426e-06 - accuracy: 1.0000 - val_loss: 0.8209 - val_accuracy: 0.8809\n",
      "Epoch 96/100\n",
      " - 2s - loss: 6.7836e-06 - accuracy: 1.0000 - val_loss: 0.8165 - val_accuracy: 0.8799\n",
      "Epoch 97/100\n",
      " - 2s - loss: 6.1848e-06 - accuracy: 1.0000 - val_loss: 0.8129 - val_accuracy: 0.8820\n",
      "Epoch 98/100\n",
      " - 2s - loss: 6.2014e-06 - accuracy: 1.0000 - val_loss: 0.8294 - val_accuracy: 0.8788\n",
      "Epoch 99/100\n",
      " - 2s - loss: 5.8971e-06 - accuracy: 1.0000 - val_loss: 0.8233 - val_accuracy: 0.8799\n",
      "Epoch 100/100\n",
      " - 2s - loss: 5.8832e-06 - accuracy: 1.0000 - val_loss: 0.8263 - val_accuracy: 0.8799\n"
     ]
    }
   ],
   "source": [
    "hist1 = model.fit(X_train, y_train, validation_data=(X_test, y_test), epochs=100, verbose=2)"
   ]
  },
  {
   "cell_type": "code",
   "execution_count": 22,
   "metadata": {},
   "outputs": [
    {
     "name": "stdout",
     "output_type": "stream",
     "text": [
      "949/949 [==============================] - 0s 127us/step\n",
      "정확도: 87.99%\n"
     ]
    }
   ],
   "source": [
    "print('정확도: {:.2f}%'.format(model.evaluate(X_test,y_test)[1]*100))"
   ]
  },
  {
   "cell_type": "code",
   "execution_count": 23,
   "metadata": {},
   "outputs": [
    {
     "data": {
      "image/png": "[encoded data removed]",
      "text/plain": [
       "<Figure size 360x288 with 1 Axes>"
      ]
     },
     "metadata": {
      "needs_background": "light"
     },
     "output_type": "display_data"
    }
   ],
   "source": [
    "import matplotlib.pyplot as plt\n",
    "#import matplotlib.font_manager as fm\n",
    "#fm.get_fontconfig_fonts()\n",
    "#font_path=\"D:\\\\ai\\\\기말대체\\\\NanumFontSetup_TTF_GOTHIC\\\\NanumGothic.ttf\"\n",
    "#font_name = fm.FontProperties(fname=font_path).get_name()\n",
    "#plt.rc('font', family=font_name, size=12) \n",
    "plt.figure(figsize=(5,4))\n",
    "plt.title('Comparison of error rate and accuracy between training and testing datasets(model1)', fontsize=14)\n",
    "\n",
    "plt.plot(hist1.history['loss'])      # 학습 데이터셋의 loss   -> loss \n",
    "plt.plot(hist1.history['val_loss'])  # 테스트 데이터셋의 loss -> val_loss\n",
    "\n",
    "plt.plot(hist1.history['accuracy'])      # 학습 데이터셋의 accuracy    -> accuracy \n",
    "plt.plot(hist1.history['val_accuracy'])  # 테스트 데이터셋의 accuracy  -> val_accuracy \n",
    "\n",
    "plt.legend(['loss','val_loss','accuracy', 'val_accuracy' ])     # 범례\n",
    "plt.grid()\n",
    "plt.show()"
   ]
  },
  {
   "cell_type": "code",
   "execution_count": 24,
   "metadata": {},
   "outputs": [],
   "source": [
    "model.save('model1.h5')  "
   ]
  },
  {
   "cell_type": "code",
   "execution_count": null,
   "metadata": {},
   "outputs": [],
   "source": []
  }
 ],
 "metadata": {
  "kernelspec": {
   "display_name": "Python 3",
   "language": "python",
   "name": "python3"
  },
  "language_info": {
   "codemirror_mode": {
    "name": "ipython",
    "version": 3
   },
   "file_extension": ".py",
   "mimetype": "text/x-python",
   "name": "python",
   "nbconvert_exporter": "python",
   "pygments_lexer": "ipython3",
   "version": "3.7.9"
  }
 },
 "nbformat": 4,
 "nbformat_minor": 4
}
