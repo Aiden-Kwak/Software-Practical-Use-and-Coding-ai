{
 "cells": [
  {
   "cell_type": "markdown",
   "metadata": {},
   "source": [
    "다층 퍼셉트론 공부"
   ]
  },
  {
   "cell_type": "code",
   "execution_count": 1,
   "metadata": {},
   "outputs": [],
   "source": [
    "import numpy as np\n",
    "\n",
    "#은닉층  위한 가중치와 바이어스\n",
    "w11=np.array([-2,-2])\n",
    "w12=np.array([2,2])\n",
    "b1=3\n",
    "b2=-1\n",
    "#출력층을 위한 가중치와 바이어스\n",
    "w2=np.array([1,1])\n",
    "b3=-1"
   ]
  },
  {
   "cell_type": "markdown",
   "metadata": {},
   "source": [
    "퍼셉트론 함수 정의"
   ]
  },
  {
   "cell_type": "code",
   "execution_count": 2,
   "metadata": {},
   "outputs": [],
   "source": [
    "def MLP(x,w,b):\n",
    "    y=np.sum(w*x)+b\n",
    "    print('퍼셉트론 통과 : ', y, ',', end='   ')\n",
    "    if y<=0:\n",
    "        return 0 # 시그모이드 결과 0 출력을 의미\n",
    "    else:\n",
    "        return 1 # 시그모이드 결과 1 출력을 의미"
   ]
  },
  {
   "cell_type": "markdown",
   "metadata": {},
   "source": [
    "NAND 게이트 (AND 게이트에 대한 NOT)<br>\n",
    "0 0-> 1<br>\n",
    "1 0-> 1<br>\n",
    "0 1-> 1<br>\n",
    "1 1-> 0<br>"
   ]
  },
  {
   "cell_type": "code",
   "execution_count": 3,
   "metadata": {},
   "outputs": [],
   "source": [
    "def NAND(x1, x2):\n",
    "    return MLP(np.array([x1,x2]), w11, b1) "
   ]
  },
  {
   "cell_type": "code",
   "execution_count": 4,
   "metadata": {},
   "outputs": [],
   "source": [
    "def OR(x1,x2):\n",
    "    return MLP(np.array([x1, x2]), w12, b2)"
   ]
  },
  {
   "cell_type": "code",
   "execution_count": 5,
   "metadata": {},
   "outputs": [],
   "source": [
    "def AND(x1,x2):\n",
    "    return MLP(np.array([x1, x2]), w2, b3) "
   ]
  },
  {
   "cell_type": "code",
   "execution_count": 6,
   "metadata": {},
   "outputs": [],
   "source": [
    "def XOR(x1,x2):\n",
    "    return AND(NAND(x1, x2),OR(x1,x2))"
   ]
  },
  {
   "cell_type": "code",
   "execution_count": 7,
   "metadata": {},
   "outputs": [
    {
     "name": "stdout",
     "output_type": "stream",
     "text": [
      "입력 값: (0, 0)\n",
      "퍼셉트론 통과 :  3 ,   퍼셉트론 통과 :  -1 ,   퍼셉트론 통과 :  0 ,   --> 최종 출력 값: 0\n",
      "입력 값: (0, 1)\n",
      "퍼셉트론 통과 :  1 ,   퍼셉트론 통과 :  1 ,   퍼셉트론 통과 :  1 ,   --> 최종 출력 값: 1\n",
      "입력 값: (1, 0)\n",
      "퍼셉트론 통과 :  1 ,   퍼셉트론 통과 :  1 ,   퍼셉트론 통과 :  1 ,   --> 최종 출력 값: 1\n",
      "입력 값: (1, 1)\n",
      "퍼셉트론 통과 :  -1 ,   퍼셉트론 통과 :  3 ,   퍼셉트론 통과 :  0 ,   --> 최종 출력 값: 0\n"
     ]
    }
   ],
   "source": [
    "if __name__ == '__main__': \n",
    "    for x in [(0, 0), (0, 1), (1, 0), (1, 1)]:\n",
    "        print(\"입력 값: \" + str(x))    \n",
    "        y = XOR(x[0], x[1])\n",
    "        print(\"--> 최종 출력 값: \" + str(y))      "
   ]
  },
  {
   "cell_type": "code",
   "execution_count": null,
   "metadata": {},
   "outputs": [],
   "source": []
  }
 ],
 "metadata": {
  "kernelspec": {
   "display_name": "Python 3",
   "language": "python",
   "name": "python3"
  },
  "language_info": {
   "codemirror_mode": {
    "name": "ipython",
    "version": 3
   },
   "file_extension": ".py",
   "mimetype": "text/x-python",
   "name": "python",
   "nbconvert_exporter": "python",
   "pygments_lexer": "ipython3",
   "version": "3.7.9"
  }
 },
 "nbformat": 4,
 "nbformat_minor": 4
}
