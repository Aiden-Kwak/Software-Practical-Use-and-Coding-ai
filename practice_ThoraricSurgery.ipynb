{
 "cells": [
  {
   "cell_type": "code",
   "execution_count": 7,
   "metadata": {},
   "outputs": [],
   "source": [
    "from keras.models import Sequential\n",
    "from keras.layers import Dense\n",
    "\n",
    "import numpy\n",
    "import tensorflow"
   ]
  },
  {
   "cell_type": "code",
   "execution_count": 9,
   "metadata": {},
   "outputs": [],
   "source": [
    "seed=0\n",
    "numpy.random.seed(seed)\n",
    "tf.random.set_seed(seed)"
   ]
  },
  {
   "cell_type": "code",
   "execution_count": 11,
   "metadata": {},
   "outputs": [
    {
     "name": "stdout",
     "output_type": "stream",
     "text": [
      "Epoch 1/30\n",
      "470/470 [==============================] - 0s 179us/step - loss: 0.6615 - accuracy: 0.3128\n",
      "Epoch 2/30\n",
      "470/470 [==============================] - 0s 55us/step - loss: 0.1488 - accuracy: 0.8511\n",
      "Epoch 3/30\n",
      "470/470 [==============================] - 0s 55us/step - loss: 0.1488 - accuracy: 0.8511\n",
      "Epoch 4/30\n",
      "470/470 [==============================] - 0s 60us/step - loss: 0.1488 - accuracy: 0.8511\n",
      "Epoch 5/30\n",
      "470/470 [==============================] - 0s 53us/step - loss: 0.1488 - accuracy: 0.8511\n",
      "Epoch 6/30\n",
      "470/470 [==============================] - 0s 57us/step - loss: 0.1487 - accuracy: 0.8511\n",
      "Epoch 7/30\n",
      "470/470 [==============================] - 0s 55us/step - loss: 0.1487 - accuracy: 0.8511\n",
      "Epoch 8/30\n",
      "470/470 [==============================] - 0s 51us/step - loss: 0.1487 - accuracy: 0.8511\n",
      "Epoch 9/30\n",
      "470/470 [==============================] - 0s 53us/step - loss: 0.1487 - accuracy: 0.8511\n",
      "Epoch 10/30\n",
      "470/470 [==============================] - 0s 55us/step - loss: 0.1486 - accuracy: 0.8511\n",
      "Epoch 11/30\n",
      "470/470 [==============================] - 0s 55us/step - loss: 0.1498 - accuracy: 0.8447\n",
      "Epoch 12/30\n",
      "470/470 [==============================] - 0s 53us/step - loss: 0.1486 - accuracy: 0.8511\n",
      "Epoch 13/30\n",
      "470/470 [==============================] - 0s 55us/step - loss: 0.1485 - accuracy: 0.8511\n",
      "Epoch 14/30\n",
      "470/470 [==============================] - 0s 55us/step - loss: 0.1483 - accuracy: 0.8511\n",
      "Epoch 15/30\n",
      "470/470 [==============================] - 0s 55us/step - loss: 0.1485 - accuracy: 0.8511\n",
      "Epoch 16/30\n",
      "470/470 [==============================] - 0s 55us/step - loss: 0.1490 - accuracy: 0.8447\n",
      "Epoch 17/30\n",
      "470/470 [==============================] - 0s 55us/step - loss: 0.1479 - accuracy: 0.8489\n",
      "Epoch 18/30\n",
      "470/470 [==============================] - 0s 55us/step - loss: 0.1482 - accuracy: 0.8468\n",
      "Epoch 19/30\n",
      "470/470 [==============================] - 0s 55us/step - loss: 0.1476 - accuracy: 0.8511\n",
      "Epoch 20/30\n",
      "470/470 [==============================] - 0s 55us/step - loss: 0.1480 - accuracy: 0.8511\n",
      "Epoch 21/30\n",
      "470/470 [==============================] - 0s 55us/step - loss: 0.1475 - accuracy: 0.8511\n",
      "Epoch 22/30\n",
      "470/470 [==============================] - 0s 55us/step - loss: 0.1469 - accuracy: 0.8511\n",
      "Epoch 23/30\n",
      "470/470 [==============================] - 0s 57us/step - loss: 0.1466 - accuracy: 0.8511\n",
      "Epoch 24/30\n",
      "470/470 [==============================] - 0s 55us/step - loss: 0.1475 - accuracy: 0.8489\n",
      "Epoch 25/30\n",
      "470/470 [==============================] - 0s 57us/step - loss: 0.1471 - accuracy: 0.8511\n",
      "Epoch 26/30\n",
      "470/470 [==============================] - 0s 62us/step - loss: 0.1466 - accuracy: 0.8511\n",
      "Epoch 27/30\n",
      "470/470 [==============================] - 0s 62us/step - loss: 0.1472 - accuracy: 0.8511\n",
      "Epoch 28/30\n",
      "470/470 [==============================] - 0s 66us/step - loss: 0.1471 - accuracy: 0.8511\n",
      "Epoch 29/30\n",
      "470/470 [==============================] - 0s 53us/step - loss: 0.1470 - accuracy: 0.8489\n",
      "Epoch 30/30\n",
      "470/470 [==============================] - 0s 55us/step - loss: 0.1461 - accuracy: 0.8532\n",
      "470/470 [==============================] - 0s 30us/step\n",
      "\n",
      " Accuracy: 0.8511\n"
     ]
    }
   ],
   "source": [
    "Data_set=numpy.loadtxt(\"D:\\\\ai\\\\Software Practical Use and Coding\\\\10\\\\ThoraricSurgery (2).csv\",delimiter=\",\")\n",
    "\n",
    "X=Data_set[:,0:17]\n",
    "Y=Data_set[:,17]\n",
    "\n",
    "model=Sequential()\n",
    "model.add(Dense(30, input_dim=17, activation='relu'))\n",
    "model.add(Dense(1, activation='sigmoid'))\n",
    "\n",
    "model.compile(loss='mean_squared_error', optimizer='adam', metrics=['accuracy'])\n",
    "model.fit(X,Y,epochs=30, batch_size=10)\n",
    "\n",
    "print(\"\\n Accuracy: %.4f\" %(model.evaluate(X,Y)[1]))"
   ]
  }
 ],
 "metadata": {
  "kernelspec": {
   "display_name": "Python 3",
   "language": "python",
   "name": "python3"
  },
  "language_info": {
   "codemirror_mode": {
    "name": "ipython",
    "version": 3
   },
   "file_extension": ".py",
   "mimetype": "text/x-python",
   "name": "python",
   "nbconvert_exporter": "python",
   "pygments_lexer": "ipython3",
   "version": "3.7.9"
  }
 },
 "nbformat": 4,
 "nbformat_minor": 4
}
